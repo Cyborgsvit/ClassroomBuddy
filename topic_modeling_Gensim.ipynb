{
 "cells": [
  {
   "cell_type": "code",
   "execution_count": 2,
   "metadata": {},
   "outputs": [],
   "source": [
    "import spacy\n",
    "nlp = spacy.load('en_core_web_sm')\n",
    "from spacy.lang.en import English\n",
    "parser = English()\n",
    "\n",
    "def tokenize(text):\n",
    "    lda_tokens = []\n",
    "    tokens = parser(text)\n",
    "    for token in tokens:\n",
    "        if token.orth_.isspace():\n",
    "            continue\n",
    "        elif token.like_url:\n",
    "            lda_tokens.append('URL')\n",
    "        elif token.orth_.startswith('@'):\n",
    "            lda_tokens.append('SCREEN_NAME')\n",
    "        else:\n",
    "            lda_tokens.append(token.lower_)\n",
    "    return lda_tokens"
   ]
  },
  {
   "cell_type": "code",
   "execution_count": 3,
   "metadata": {},
   "outputs": [
    {
     "name": "stderr",
     "output_type": "stream",
     "text": [
      "[nltk_data] Downloading package wordnet to /home/pavan/nltk_data...\n",
      "[nltk_data]   Package wordnet is already up-to-date!\n"
     ]
    },
    {
     "data": {
      "text/plain": [
       "True"
      ]
     },
     "execution_count": 3,
     "metadata": {},
     "output_type": "execute_result"
    }
   ],
   "source": [
    "import nltk\n",
    "nltk.download('wordnet')"
   ]
  },
  {
   "cell_type": "code",
   "execution_count": 4,
   "metadata": {},
   "outputs": [],
   "source": [
    "from nltk.corpus import wordnet as wn\n",
    "def get_lemma(word):\n",
    "    lemma = wn.morphy(word)\n",
    "    if lemma is None:\n",
    "        return word\n",
    "    else:\n",
    "        return lemma\n",
    "    \n",
    "from nltk.stem.wordnet import WordNetLemmatizer\n",
    "def get_lemma2(word):\n",
    "    return WordNetLemmatizer().lemmatize(word)"
   ]
  },
  {
   "cell_type": "code",
   "execution_count": 5,
   "metadata": {},
   "outputs": [
    {
     "name": "stdout",
     "output_type": "stream",
     "text": [
      "dogs dog dog\n",
      "ran run ran\n",
      "discouraged discourage discouraged\n"
     ]
    }
   ],
   "source": [
    "for w in ['dogs', 'ran', 'discouraged']:\n",
    "    print(w, get_lemma(w), get_lemma2(w))"
   ]
  },
  {
   "cell_type": "code",
   "execution_count": 6,
   "metadata": {},
   "outputs": [
    {
     "name": "stderr",
     "output_type": "stream",
     "text": [
      "[nltk_data] Downloading package stopwords to /home/pavan/nltk_data...\n",
      "[nltk_data]   Package stopwords is already up-to-date!\n"
     ]
    }
   ],
   "source": [
    "nltk.download('stopwords')\n",
    "en_stop = set(nltk.corpus.stopwords.words('english'))"
   ]
  },
  {
   "cell_type": "code",
   "execution_count": 7,
   "metadata": {},
   "outputs": [],
   "source": [
    "def prepare_text_for_lda(text):\n",
    "    tokens = tokenize(text)\n",
    "    tokens = [token for token in tokens if len(token) > 4]\n",
    "    tokens = [token for token in tokens if token not in en_stop]\n",
    "    tokens = [get_lemma(token) for token in tokens]\n",
    "    return tokens"
   ]
  },
  {
   "cell_type": "code",
   "execution_count": 8,
   "metadata": {},
   "outputs": [
    {
     "name": "stdout",
     "output_type": "stream",
     "text": [
      "['optimal', 'waveband', 'switching', 'optical', 'network']\n",
      "['feature', 'base', 'cellular', 'texturing', 'architectural', 'model']\n",
      "['optimization', 'method', 'joint', 'allocation', 'modulation', 'scheme', 'coding', 'rates', 'resource', 'block', 'power', 'organize', 'network']\n",
      "['light', 'weight', 'crypto', 'algorithm']\n",
      "['market', 'framework', 'inform', 'trading']\n",
      "['millimeter', 'cross', 'layer', 'modeling', 'multi', 'architecture']\n",
      "['signing', 'individual', 'fragment', 'graph']\n",
      "['track', 'personal', 'olfactory', 'display']\n",
      "['measurement', 'bacterial', 'activity', 'using', 'array', 'base', 'isfet', 'chemical', 'current', 'conveyor', 'inversion']\n",
      "['comic_strip', 'seeing', 'walls</i']\n",
      "['adapt', 'dynamic', 'service', 'composition']\n",
      "['voltage', 'linear', 'programmable', 'triode', 'transconductor']\n",
      "['hybrid', 'method', 'photovoltaic', 'system', 'estimation', 'revision', 'method']\n",
      "['7-decades', 'tunable', 'translinear', 'bicmos', '3-phase', 'sinusoidal', 'oscillator']\n",
      "['mobile', 'computing', 'fertile', 'research', 'black', 'panel']\n",
      "['oscillation', 'control', 'network', 'queue']\n",
      "['effort', 'network', 'modeling', 'performance', 'analysis', 'large', 'network', 'asymptotics']\n",
      "['information', 'system', 'design', 'approach', 'integrating', 'transactions']\n",
      "['understanding', 'spatial', 'behavior', 'location', 'base', 'recommendation']\n",
      "['adaptive', 'channel', 'equalization', 'simplify', 'approach', 'using', 'quantize', 'algorithm']\n",
      "['dynamic', 'frame', 'sizing', 'algorithm', 'switch', 'throughput']\n",
      "['level', 'specification', 'embed', 'listener', 'monitoring', 'network', 'chips']\n",
      "['differential', 'analog', 'design', 'indirect', 'inverse', 'control', 'base', 'neural', 'network']\n",
      "['integrate', 'voltage', 'power', 'circuit', 'optical', 'sensing', 'diffraction', 'base', 'micromachined', 'microphone']\n",
      "['estimate', 'distance', 'arbitrary', 'pair']\n",
      "['delay', 'tolerant', 'event', 'collection', 'sensor', 'network', 'mobile']\n"
     ]
    }
   ],
   "source": [
    "import random\n",
    "text_data = []\n",
    "with open('dataset.csv') as f:\n",
    "    for line in f:\n",
    "        tokens = prepare_text_for_lda(line)\n",
    "        if random.random() > .99:\n",
    "            print(tokens)\n",
    "            text_data.append(tokens)"
   ]
  },
  {
   "cell_type": "code",
   "execution_count": 9,
   "metadata": {},
   "outputs": [],
   "source": [
    "from gensim import corpora\n",
    "dictionary = corpora.Dictionary(text_data)"
   ]
  },
  {
   "cell_type": "code",
   "execution_count": 10,
   "metadata": {},
   "outputs": [],
   "source": [
    "corpus = [dictionary.doc2bow(text) for text in text_data]"
   ]
  },
  {
   "cell_type": "code",
   "execution_count": 11,
   "metadata": {},
   "outputs": [],
   "source": [
    "import pickle\n",
    "pickle.dump(corpus, open('corpus.pkl', 'wb'))\n",
    "dictionary.save('dictionary.gensim')"
   ]
  },
  {
   "cell_type": "markdown",
   "metadata": {},
   "source": [
    "### Try 5 topics"
   ]
  },
  {
   "cell_type": "code",
   "execution_count": 12,
   "metadata": {},
   "outputs": [],
   "source": [
    "import gensim\n",
    "NUM_TOPICS = 5\n",
    "ldamodel = gensim.models.ldamodel.LdaModel(corpus, num_topics = NUM_TOPICS, id2word=dictionary, passes=15)\n",
    "ldamodel.save('model5.gensim')"
   ]
  },
  {
   "cell_type": "code",
   "execution_count": 13,
   "metadata": {},
   "outputs": [
    {
     "name": "stdout",
     "output_type": "stream",
     "text": [
      "(0, '0.033*\"network\" + 0.018*\"using\" + 0.018*\"isfet\" + 0.018*\"bacterial\"')\n",
      "(1, '0.034*\"base\" + 0.034*\"algorithm\" + 0.034*\"method\" + 0.034*\"approach\"')\n",
      "(2, '0.031*\"mobile\" + 0.031*\"voltage\" + 0.031*\"panel\" + 0.031*\"research\"')\n",
      "(3, '0.064*\"network\" + 0.034*\"control\" + 0.018*\"dynamic\" + 0.018*\"design\"')\n",
      "(4, '0.033*\"modeling\" + 0.033*\"network\" + 0.018*\"optical\" + 0.018*\"bicmos\"')\n"
     ]
    }
   ],
   "source": [
    "topics = ldamodel.print_topics(num_words=4)\n",
    "for topic in topics:\n",
    "    print(topic)"
   ]
  },
  {
   "cell_type": "code",
   "execution_count": 14,
   "metadata": {},
   "outputs": [
    {
     "name": "stdout",
     "output_type": "stream",
     "text": [
      "[(17, 1), (23, 1)]\n",
      "[(0, 0.39856187), (1, 0.40028772), (2, 0.06670511), (3, 0.06775606), (4, 0.066689275)]\n"
     ]
    }
   ],
   "source": [
    "new_doc = 'Practical Bayesian Optimization of Machine Learning Algorithms'\n",
    "new_doc = prepare_text_for_lda(new_doc)\n",
    "new_doc_bow = dictionary.doc2bow(new_doc)\n",
    "print(new_doc_bow)\n",
    "print(ldamodel.get_document_topics(new_doc_bow))"
   ]
  },
  {
   "cell_type": "code",
   "execution_count": 15,
   "metadata": {},
   "outputs": [
    {
     "name": "stdout",
     "output_type": "stream",
     "text": [
      "(0, '0.039*\"network\" + 0.030*\"method\" + 0.021*\"power\" + 0.021*\"modeling\"')\n",
      "(1, '0.014*\"using\" + 0.014*\"approach\" + 0.014*\"system\" + 0.014*\"tunable\"')\n",
      "(2, '0.035*\"network\" + 0.025*\"base\" + 0.014*\"control\" + 0.014*\"dynamic\"')\n"
     ]
    }
   ],
   "source": [
    "ldamodel = gensim.models.ldamodel.LdaModel(corpus, num_topics = 3, id2word=dictionary, passes=15)\n",
    "ldamodel.save('model3.gensim')\n",
    "topics = ldamodel.print_topics(num_words=4)\n",
    "for topic in topics:\n",
    "    print(topic)"
   ]
  },
  {
   "cell_type": "code",
   "execution_count": 16,
   "metadata": {},
   "outputs": [
    {
     "name": "stdout",
     "output_type": "stream",
     "text": [
      "(0, '0.054*\"method\" + 0.028*\"system\" + 0.028*\"hybrid\" + 0.028*\"revision\"')\n",
      "(1, '0.053*\"tunable\" + 0.053*\"sinusoidal\" + 0.053*\"translinear\" + 0.053*\"oscillator\"')\n",
      "(2, '0.046*\"network\" + 0.046*\"mobile\" + 0.024*\"power\" + 0.024*\"coding\"')\n",
      "(3, '0.007*\"network\" + 0.007*\"seeing\" + 0.007*\"base\" + 0.007*\"algorithm\"')\n",
      "(4, '0.036*\"modeling\" + 0.036*\"multi\" + 0.036*\"millimeter\" + 0.036*\"cross\"')\n",
      "(5, '0.054*\"algorithm\" + 0.028*\"approach\" + 0.028*\"dynamic\" + 0.028*\"adaptive\"')\n",
      "(6, '0.072*\"network\" + 0.049*\"base\" + 0.049*\"optical\" + 0.026*\"voltage\"')\n",
      "(7, '0.066*\"network\" + 0.066*\"control\" + 0.035*\"design\" + 0.035*\"inverse\"')\n",
      "(8, '0.007*\"network\" + 0.007*\"algorithm\" + 0.007*\"dynamic\" + 0.007*\"base\"')\n",
      "(9, '0.044*\"base\" + 0.044*\"using\" + 0.044*\"isfet\" + 0.044*\"current\"')\n"
     ]
    }
   ],
   "source": [
    "ldamodel = gensim.models.ldamodel.LdaModel(corpus, num_topics = 10, id2word=dictionary, passes=15)\n",
    "ldamodel.save('model10.gensim')\n",
    "topics = ldamodel.print_topics(num_words=4)\n",
    "for topic in topics:\n",
    "    print(topic)"
   ]
  },
  {
   "cell_type": "markdown",
   "metadata": {},
   "source": [
    "### pyLDAvis"
   ]
  },
  {
   "cell_type": "code",
   "execution_count": 17,
   "metadata": {},
   "outputs": [],
   "source": [
    "dictionary = gensim.corpora.Dictionary.load('dictionary.gensim')\n",
    "corpus = pickle.load(open('corpus.pkl', 'rb'))\n",
    "lda = gensim.models.ldamodel.LdaModel.load('model5.gensim')"
   ]
  },
  {
   "cell_type": "code",
   "execution_count": 18,
   "metadata": {},
   "outputs": [
    {
     "name": "stderr",
     "output_type": "stream",
     "text": [
      "/usr/lib/python3/dist-packages/pandas/__init__.py:7: DeprecationWarning: bad escape \\s\n",
      "  from pandas import hashtable, tslib, lib\n"
     ]
    },
    {
     "data": {
      "text/html": [
       "\n",
       "<link rel=\"stylesheet\" type=\"text/css\" href=\"https://cdn.rawgit.com/bmabey/pyLDAvis/files/ldavis.v1.0.0.css\">\n",
       "\n",
       "\n",
       "<div id=\"ldavis_el131771406656524982489046850501\"></div>\n",
       "<script type=\"text/javascript\">\n",
       "\n",
       "var ldavis_el131771406656524982489046850501_data = {\"mdsDat\": {\"cluster\": [1, 1, 1, 1, 1], \"x\": [-0.015444314059383877, -0.12616948127548785, 0.0033869616336138844, 0.043280022580710724, 0.09494681112054706], \"Freq\": [23.83948034922645, 22.12539310502952, 8.37190022238747, 22.318460259324066, 23.34476606403249], \"topics\": [1, 2, 3, 4, 5], \"y\": [-0.12049657655881062, 0.04255683460698923, -4.631412137629762e-06, 0.07533209134230053, 0.0026122820216583935]}, \"topic.order\": [1, 2, 3, 4, 5], \"plot.opts\": {\"xlab\": \"PC1\", \"ylab\": \"PC2\"}, \"token.table\": {\"Freq\": [0.9071180941611899, 0.9071181622113536, 0.8972362535098375, 0.9071201052549486, 0.9182071698792904, 0.45276595684778875, 0.45276595684778875, 0.8972432941048383, 0.9213339737548212, 0.6058010074258092, 0.9213360764907658, 0.918282237534881, 0.9071184896433948, 0.8972360317354598, 0.9071248973914954, 0.8972360772899505, 0.29668595780776547, 0.29668595780776547, 0.29668595780776547, 0.29668595780776547, 0.9182079332436538, 0.9071180159968563, 0.9182619335370535, 0.9182072247945694, 0.8972362086442595, 0.897237359316786, 0.9071212894891091, 0.8972440327561236, 0.9213345250688315, 0.9213374567014291, 0.9071201770284163, 0.6085241342740051, 0.8972361594905448, 0.9071186240209279, 0.9182091887202717, 0.8972361091668716, 0.921334511506155, 0.6071644849829977, 0.6071644849829977, 0.9213339788719138, 0.9071199636760258, 0.8972401929602288, 0.9213361004374986, 0.6022973135833141, 0.6022973135833141, 0.9071239500611323, 0.8972371654284458, 0.9182072102394179, 0.9213360866314418, 0.9182074176002419, 0.921334579668141, 0.9182708147004522, 0.9071201830997538, 0.921334772789237, 0.8972394770896246, 0.9071201498844353, 0.9182074857479008, 0.9213339350485134, 0.9071199789042289, 0.8972397233198388, 0.9182136224301893, 0.9071208404219112, 0.9182149431712054, 0.9213339715802858, 0.8972362073438869, 0.8972360674590705, 0.8972433956806692, 0.9071228091968144, 0.9071184702309615, 0.8972371433721748, 0.9182093672487271, 0.8972371073263601, 0.9182078634478443, 0.8972396129287739, 0.8972361104507144, 0.4468717576842886, 0.4468717576842886, 0.9071216949039724, 0.9071210506414508, 0.9071186083978111, 0.6940228556253037, 0.918258657368095, 0.5961830669631206, 0.8972421514219989, 0.8972372764192613, 0.9071183629877481, 0.19672690618373886, 0.39345381236747773, 0.19672690618373886, 0.9213339398642051, 0.8972394407807863, 0.6022905646531164, 0.6022905646531164, 0.9213352390833897, 0.897241776055366, 0.8972438060230041, 0.9213361060231858, 0.9071180899556579, 0.9213360577739531, 0.9071225944493547, 0.8972393000298705, 0.9182075285886027, 0.5919051664823429, 0.5919051664823429, 0.9182071636658956, 0.9213361328563476, 0.9182078535955753, 0.8972421165080446, 0.9182073993235516, 0.9213373847580058, 0.9071203883948459, 0.9213345919678523, 0.9071200605960302, 0.9071200142400232, 0.9182071487196329, 0.9071180585892108, 0.9213348317300015, 0.918207799220933, 0.897237226511924, 0.9213348164014867, 0.9213353335842225, 0.6058023549567996, 0.9182680909599007, 0.9213347649438972, 0.9213344152407957, 0.897239590915359, 0.8972394194225629, 0.9182140416798183, 0.9071181000868832, 0.9071181321645171, 0.918207823912338, 0.5966006054024187, 0.5966006054024187, 0.6858808105510391, 0.921337593555852, 0.9213354128185861, 0.9182091510979526], \"Topic\": [5, 5, 1, 5, 2, 2, 4, 1, 4, 2, 4, 2, 5, 1, 5, 1, 1, 2, 4, 5, 2, 5, 2, 2, 1, 1, 5, 1, 4, 4, 5, 4, 1, 5, 2, 1, 4, 2, 4, 4, 5, 1, 4, 4, 5, 5, 1, 2, 4, 2, 4, 2, 5, 4, 1, 5, 2, 4, 5, 1, 2, 5, 2, 4, 1, 1, 1, 5, 5, 1, 2, 1, 2, 1, 1, 1, 2, 5, 5, 5, 4, 2, 5, 1, 1, 5, 1, 4, 5, 4, 1, 4, 5, 4, 1, 1, 4, 5, 4, 5, 1, 2, 1, 5, 2, 4, 2, 1, 2, 4, 5, 4, 5, 5, 2, 5, 4, 2, 1, 4, 4, 2, 2, 4, 4, 1, 1, 2, 5, 5, 2, 1, 2, 5, 4, 4, 2], \"Term\": [\"3-phase\", \"7-decades\", \"activity\", \"adapt\", \"adaptive\", \"algorithm\", \"algorithm\", \"allocation\", \"analog\", \"approach\", \"arbitrary\", \"architectural\", \"architecture\", \"array\", \"asymptotics\", \"bacterial\", \"base\", \"base\", \"base\", \"base\", \"behavior\", \"bicmos\", \"cellular\", \"channel\", \"chemical\", \"chips\", \"circuit\", \"coding\", \"collection\", \"comic_strip\", \"composition\", \"control\", \"conveyor\", \"cross\", \"crypto\", \"current\", \"delay\", \"design\", \"design\", \"differential\", \"diffraction\", \"display\", \"distance\", \"dynamic\", \"dynamic\", \"effort\", \"embed\", \"equalization\", \"estimate\", \"estimation\", \"event\", \"feature\", \"fragment\", \"frame\", \"framework\", \"graph\", \"hybrid\", \"indirect\", \"individual\", \"inform\", \"information\", \"integrate\", \"integrating\", \"inverse\", \"inversion\", \"isfet\", \"joint\", \"large\", \"layer\", \"level\", \"light\", \"listener\", \"location\", \"market\", \"measurement\", \"method\", \"method\", \"micromachined\", \"microphone\", \"millimeter\", \"mobile\", \"model\", \"modeling\", \"modulation\", \"monitoring\", \"multi\", \"network\", \"network\", \"network\", \"neural\", \"olfactory\", \"optical\", \"optical\", \"optimal\", \"optimization\", \"organize\", \"oscillation\", \"oscillator\", \"pair\", \"performance\", \"personal\", \"photovoltaic\", \"power\", \"power\", \"quantize\", \"queue\", \"recommendation\", \"resource\", \"revision\", \"seeing\", \"sensing\", \"sensor\", \"service\", \"signing\", \"simplify\", \"sinusoidal\", \"sizing\", \"spatial\", \"specification\", \"switch\", \"switching\", \"system\", \"texturing\", \"throughput\", \"tolerant\", \"track\", \"trading\", \"transactions\", \"translinear\", \"tunable\", \"understanding\", \"using\", \"using\", \"voltage\", \"walls</i\", \"waveband\", \"weight\"]}, \"lambda.step\": 0.01, \"tinfo\": {\"loglift\": [30.0, 29.0, 28.0, 27.0, 26.0, 25.0, 24.0, 23.0, 22.0, 21.0, 20.0, 19.0, 18.0, 17.0, 16.0, 15.0, 14.0, 13.0, 12.0, 11.0, 10.0, 9.0, 8.0, 7.0, 6.0, 5.0, 4.0, 3.0, 2.0, 1.0, 0.9751, 0.9751, 0.9751, 0.9751, 0.9751, 0.9751, 0.9751, 0.9751, 0.9751, 0.9751, 0.9751, 0.9751, 0.9751, 0.9751, 0.9751, 0.9751, 0.9751, 0.9751, 0.9751, 0.9751, 0.9751, 0.9751, 0.9751, 0.9749, 0.9749, 0.9749, 0.9749, 0.9749, 0.9748, 0.9748, 0.0633, 0.5672, 0.5589, -0.1317, 1.2188, 1.2188, 1.0285, 1.0285, 1.0285, 1.0285, 1.0285, 1.0285, 1.0285, 1.0285, 1.0285, 1.0285, 1.0285, 1.0285, 1.0285, 1.0285, 1.0285, 1.0285, 1.0285, 1.0285, 1.0285, 1.0285, 1.0283, 1.0283, 1.0283, 1.0283, 1.0282, 0.9282, 0.9146, 0.6146, 0.5056, 0.5972, 1.7531, 1.7531, 1.7531, 1.7531, 1.7531, 1.7531, 1.7531, 1.7531, 1.7531, 1.2642, 1.252, -0.2447, -0.2447, -0.2448, -0.2448, -0.2448, -0.2448, -0.2448, -0.2448, -0.2448, -0.2448, -0.2448, -0.2448, -0.2448, -0.2448, -0.2448, -0.2448, -0.2448, -0.2448, -0.2448, -0.246, -0.2463, -0.2464, -0.2466, -0.2467, -0.248, -0.248, -0.248, -1.3759, -0.6639, -0.6616, -0.6639, -1.7887, -0.6698, -0.9552, -0.2713, 1.208, 1.0166, 1.0166, 1.0166, 1.0166, 1.0166, 1.0166, 1.0166, 1.0166, 1.0166, 1.0166, 1.0166, 1.0166, 1.0166, 1.0166, 1.0166, 1.0166, 1.0166, 1.0166, 1.0166, 1.0166, 1.0166, 1.0166, 1.0166, 1.0166, 1.0166, 1.0166, 0.7326, 0.726, 0.5998, 0.592, 1.1724, 0.9861, 0.9861, 0.9861, 0.9861, 0.9861, 0.9861, 0.9861, 0.9861, 0.9861, 0.9861, 0.9861, 0.9861, 0.9861, 0.9861, 0.9861, 0.9861, 0.9861, 0.9861, 0.9861, 0.9859, 0.9859, 0.9859, 0.9859, 0.9858, 0.9858, 0.9858, 0.9858, 0.9857, 0.9856, 0.0627, 0.5769], \"Total\": [5.0, 1.0, 1.0, 0.0, 0.0, 0.0, 0.0, 0.0, 0.0, 0.0, 0.0, 0.0, 1.0, 1.0, 1.0, 1.0, 2.0, 2.0, 1.0, 1.0, 1.0, 1.0, 1.0, 1.0, 1.0, 1.0, 1.0, 1.0, 1.0, 1.0, 1.1145338849695956, 1.1145338727578165, 1.1145338331607606, 1.1145339293449585, 1.1145338315659894, 1.1145337706494185, 1.1145337112066929, 1.114533709591389, 1.1145336538600263, 1.1145325484872388, 1.1145325210893189, 1.1145325932627317, 1.1145322802446211, 1.1145323832184606, 1.1145324452124818, 1.1145298695305794, 1.1145296946930805, 1.1145296495910988, 1.114529721223763, 1.1145295081994826, 1.1145293437298365, 1.114529480854947, 1.1145287603542813, 1.1145267938775658, 1.1145263709776312, 1.1145263276086002, 1.1145249082052824, 1.1145247820312763, 1.1145242723184219, 1.1145239906786943, 5.083188768627412, 1.6761632337357095, 1.6894598267201153, 3.370567341269112, 1.6507070601437837, 1.6507033883539644, 1.0890788405970107, 1.0890788656943269, 1.089078847966673, 1.0890787927261594, 1.0890787754624018, 1.0890785467770725, 1.0890785684549107, 1.08907846594768, 1.0890784151346726, 1.089078094139981, 1.0890780296467057, 1.0890780179610187, 1.0890780648537262, 1.0890779351768485, 1.0890764460696827, 1.089076490693047, 1.0890762343193534, 1.0890711873271395, 1.0890706900654221, 1.0890696208301038, 1.0890177750854986, 1.0890138896949584, 1.08900658734059, 1.0890033571699744, 1.0889898106757345, 2.2086466194634435, 2.2377784740348083, 1.6470001535547698, 3.370567341269112, 1.6761632337357095, 0.8831080023185316, 0.8831080052089626, 0.8831083059851828, 0.8831083670114903, 0.8831086759290669, 0.8831088492542942, 0.8831093272682371, 0.8831094101848727, 0.8831094843590249, 1.4408747376179933, 1.4579792649346706, 1.0853784834075366, 1.085378644628428, 1.0853787293811543, 1.0853802357929458, 1.0853802041821337, 1.0853802586373953, 1.085380270583622, 1.0853802423731662, 1.0853802926329699, 1.0853811457656275, 1.0853810524234166, 1.0853812570925558, 1.0853818064118137, 1.0853817369764345, 1.0853817550342455, 1.0853818156540451, 1.0853820339188764, 1.0853821142173936, 1.0853820194291506, 1.0889898106757345, 1.0890033571699744, 1.08900658734059, 1.0890138896949584, 1.0890177750854986, 1.0890696208301038, 1.0890706900654221, 1.0890711873271395, 3.370567341269112, 1.6507033883539644, 1.6470001535547698, 1.6507070601437837, 5.083188768627412, 1.660309580414014, 2.2086466194634435, 1.1145287603542813, 1.6433201966476516, 1.085382787643088, 1.0853827502797764, 1.0853827933162414, 1.0853827477180527, 1.0853827416898325, 1.085382227623229, 1.0853820194291506, 1.085382098239824, 1.0853820339188764, 1.0853821142173936, 1.0853817369764345, 1.0853817550342455, 1.0853818064118137, 1.0853818156540451, 1.0853812570925558, 1.0853811457656275, 1.0853810524234166, 1.0853802423731662, 1.0853802926329699, 1.085380270583622, 1.0853802586373953, 1.0853802041821337, 1.0853802357929458, 1.0853787293811543, 1.0853784834075366, 1.085378644628428, 1.4408747376179933, 5.083188768627412, 1.6470001535547698, 1.660309580414014, 1.6773371392345484, 1.102392392572066, 1.1023922903800736, 1.1023922513971285, 1.1023923408109009, 1.1023923026922353, 1.1023922148821506, 1.1023922975813836, 1.1023919708849577, 1.1023918169644173, 1.1023918405557214, 1.1023916726460277, 1.1023916536597635, 1.1023900071167732, 1.102389907839699, 1.102389853567348, 1.1023899641744657, 1.1023897663436872, 1.1023897993307692, 1.1023897589654141, 1.1023900256230563, 1.1023895094779042, 1.1023889601465773, 1.1023887046749405, 1.102388414412807, 1.1023879217284729, 1.1023868285488183, 1.1023865675755866, 1.102385181134958, 1.1023840298900116, 5.083188768627412, 1.6603281849117804], \"Term\": [\"network\", \"mobile\", \"voltage\", \"panel\", \"research\", \"black\", \"computing\", \"fertile\", \"transconductor\", \"triode\", \"linear\", \"programmable\", \"approach\", \"system\", \"control\", \"modeling\", \"algorithm\", \"method\", \"design\", \"using\", \"dynamic\", \"optical\", \"adaptive\", \"equalization\", \"quantize\", \"simplify\", \"channel\", \"estimation\", \"revision\", \"hybrid\", \"isfet\", \"bacterial\", \"current\", \"array\", \"measurement\", \"conveyor\", \"inversion\", \"chemical\", \"activity\", \"level\", \"embed\", \"listener\", \"chips\", \"monitoring\", \"specification\", \"personal\", \"olfactory\", \"framework\", \"trading\", \"track\", \"inform\", \"market\", \"display\", \"optimization\", \"resource\", \"modulation\", \"allocation\", \"joint\", \"organize\", \"coding\", \"network\", \"using\", \"power\", \"base\", \"approach\", \"system\", \"adaptive\", \"simplify\", \"quantize\", \"equalization\", \"channel\", \"estimation\", \"revision\", \"hybrid\", \"photovoltaic\", \"spatial\", \"recommendation\", \"location\", \"understanding\", \"behavior\", \"crypto\", \"weight\", \"light\", \"information\", \"transactions\", \"integrating\", \"model\", \"cellular\", \"texturing\", \"feature\", \"architectural\", \"algorithm\", \"method\", \"design\", \"base\", \"using\", \"research\", \"panel\", \"black\", \"computing\", \"fertile\", \"transconductor\", \"triode\", \"linear\", \"programmable\", \"mobile\", \"voltage\", \"walls</i\", \"comic_strip\", \"seeing\", \"oscillation\", \"queue\", \"estimate\", \"arbitrary\", \"distance\", \"pair\", \"switching\", \"waveband\", \"optimal\", \"frame\", \"sizing\", \"switch\", \"throughput\", \"event\", \"delay\", \"sensor\", \"architectural\", \"feature\", \"texturing\", \"cellular\", \"model\", \"integrating\", \"transactions\", \"information\", \"base\", \"system\", \"design\", \"approach\", \"network\", \"dynamic\", \"algorithm\", \"display\", \"control\", \"neural\", \"inverse\", \"indirect\", \"analog\", \"differential\", \"tolerant\", \"sensor\", \"collection\", \"event\", \"delay\", \"sizing\", \"switch\", \"frame\", \"throughput\", \"optimal\", \"switching\", \"waveband\", \"distance\", \"pair\", \"arbitrary\", \"estimate\", \"queue\", \"oscillation\", \"seeing\", \"walls</i\", \"comic_strip\", \"mobile\", \"network\", \"design\", \"dynamic\", \"modeling\", \"bicmos\", \"translinear\", \"tunable\", \"sinusoidal\", \"oscillator\", \"7-decades\", \"3-phase\", \"multi\", \"architecture\", \"layer\", \"millimeter\", \"cross\", \"individual\", \"service\", \"adapt\", \"signing\", \"composition\", \"graph\", \"fragment\", \"diffraction\", \"sensing\", \"integrate\", \"microphone\", \"circuit\", \"micromachined\", \"performance\", \"large\", \"effort\", \"asymptotics\", \"network\", \"optical\"], \"Freq\": [5.0, 1.0, 1.0, 0.0, 0.0, 0.0, 0.0, 0.0, 0.0, 0.0, 0.0, 0.0, 1.0, 1.0, 1.0, 1.0, 2.0, 2.0, 1.0, 1.0, 1.0, 1.0, 1.0, 1.0, 1.0, 1.0, 1.0, 1.0, 1.0, 1.0, 0.7044899777215589, 0.7044899048981915, 0.7044897592514571, 0.7044897592514571, 0.7044896136047226, 0.7044893951346208, 0.7044891038411518, 0.7044889581944174, 0.7044884484308466, 0.7044830595016701, 0.7044826953848339, 0.7044826953848339, 0.7044820399745286, 0.704481603034325, 0.7044810932707544, 0.7044698056488307, 0.704469004591791, 0.7044685676515874, 0.7044685676515874, 0.7044682035347511, 0.7044677665945477, 0.7044666014206716, 0.70446347001588, 0.7043436755767543, 0.7043342813623791, 0.7043333346586048, 0.7043066813061915, 0.704303622724767, 0.7042927720430467, 0.7042862907633616, 1.2910388710139518, 0.7045730691835906, 0.7043545262584745, 0.7043499383863377, 1.2355546804193982, 1.2355421091853633, 0.6739406124186911, 0.6739404772441315, 0.6739404096568519, 0.6739402744822923, 0.6739394634349353, 0.67393811168934, 0.6739380441020604, 0.6739376385783817, 0.6739362192455068, 0.6739358813091081, 0.6739349350871915, 0.6739348674999117, 0.6739347999126319, 0.6739341916271142, 0.6739240535351506, 0.6739237831860315, 0.6739232424877935, 0.6739166189343773, 0.6739139830304668, 0.673911414713836, 0.6737704952355421, 0.6737593433343821, 0.6737400809596513, 0.673730145629527, 0.6736939188475771, 1.2363103062070842, 1.2357571719095508, 0.673767183458834, 1.2364331798816828, 0.6738645091416845, 0.4267747230203034, 0.4267747230203034, 0.4267742115410635, 0.4267741603931395, 0.42677357219201356, 0.4267732397305076, 0.4267724725116477, 0.4267723446418377, 0.42677221677202776, 0.4270643737138781, 0.4268818523471076, 0.07113981894415253, 0.07113971664830454, 0.07113946090868457, 0.07113741499172484, 0.07113740220474384, 0.07113724236748135, 0.07113724236748135, 0.07113722318700985, 0.07113703138229488, 0.07113588694749554, 0.07113588055400503, 0.07113554169900857, 0.07113493431741115, 0.07113492153043016, 0.07113490874344916, 0.07113490874344916, 0.0711345698884527, 0.07113443562515222, 0.07113442283817122, 0.07128727840902553, 0.07126395495568454, 0.07125838622545975, 0.07124577826219537, 0.07123889886641827, 0.07114950508225877, 0.07114760621558053, 0.07114674948785363, 0.07128476576725935, 0.07115152542525652, 0.07114970967395474, 0.07114509996730484, 0.07114317552666459, 0.07114178174573577, 0.07113945451519407, 0.07113838040879021, 1.2274347797975687, 0.6695063284851038, 0.6695060557769066, 0.6695059875998572, 0.6695057830687092, 0.6695055785375612, 0.6695032605178838, 0.6695021696850944, 0.6695019651539463, 0.6695009424982064, 0.669500874321157, 0.669499238071973, 0.6694988971867263, 0.6694988971867263, 0.6694988290096769, 0.6694963064588515, 0.6694948747408155, 0.6694943293244208, 0.6694892160457205, 0.6694884660981779, 0.6694882615670299, 0.6694881933899806, 0.6694872389112898, 0.6694870343801418, 0.6694769441768401, 0.6694763987604454, 0.6694755806358534, 0.6690553373037469, 2.3447019928650605, 0.669661226741195, 0.6698055575546391, 1.2646558497282732, 0.6899149063291249, 0.6899148350169801, 0.6899139792712436, 0.6899139792712436, 0.689913907959099, 0.6899138366469543, 0.6899132661497966, 0.6899119112190472, 0.6899111980976, 0.6899109841611659, 0.6899104849761529, 0.6899101284154294, 0.6899011430851961, 0.6899008578366174, 0.6899007865244726, 0.6899005725880385, 0.6899004299637491, 0.6899000734030255, 0.6898996455301573, 0.6897784148841529, 0.6897537408820839, 0.6897324898629607, 0.6897262857063711, 0.6897080297973257, 0.6896879910846626, 0.6896568276774251, 0.6896515505787166, 0.6895958557936993, 0.6895456520438246, 1.2634192971390288, 0.6901177893808205], \"Category\": [\"Default\", \"Default\", \"Default\", \"Default\", \"Default\", \"Default\", \"Default\", \"Default\", \"Default\", \"Default\", \"Default\", \"Default\", \"Default\", \"Default\", \"Default\", \"Default\", \"Default\", \"Default\", \"Default\", \"Default\", \"Default\", \"Default\", \"Default\", \"Default\", \"Default\", \"Default\", \"Default\", \"Default\", \"Default\", \"Default\", \"Topic1\", \"Topic1\", \"Topic1\", \"Topic1\", \"Topic1\", \"Topic1\", \"Topic1\", \"Topic1\", \"Topic1\", \"Topic1\", \"Topic1\", \"Topic1\", \"Topic1\", \"Topic1\", \"Topic1\", \"Topic1\", \"Topic1\", \"Topic1\", \"Topic1\", \"Topic1\", \"Topic1\", \"Topic1\", \"Topic1\", \"Topic1\", \"Topic1\", \"Topic1\", \"Topic1\", \"Topic1\", \"Topic1\", \"Topic1\", \"Topic1\", \"Topic1\", \"Topic1\", \"Topic1\", \"Topic2\", \"Topic2\", \"Topic2\", \"Topic2\", \"Topic2\", \"Topic2\", \"Topic2\", \"Topic2\", \"Topic2\", \"Topic2\", \"Topic2\", \"Topic2\", \"Topic2\", \"Topic2\", \"Topic2\", \"Topic2\", \"Topic2\", \"Topic2\", \"Topic2\", \"Topic2\", \"Topic2\", \"Topic2\", \"Topic2\", \"Topic2\", \"Topic2\", \"Topic2\", \"Topic2\", \"Topic2\", \"Topic2\", \"Topic2\", \"Topic2\", \"Topic2\", \"Topic3\", \"Topic3\", \"Topic3\", \"Topic3\", \"Topic3\", \"Topic3\", \"Topic3\", \"Topic3\", \"Topic3\", \"Topic3\", \"Topic3\", \"Topic3\", \"Topic3\", \"Topic3\", \"Topic3\", \"Topic3\", \"Topic3\", \"Topic3\", \"Topic3\", \"Topic3\", \"Topic3\", \"Topic3\", \"Topic3\", \"Topic3\", \"Topic3\", \"Topic3\", \"Topic3\", \"Topic3\", \"Topic3\", \"Topic3\", \"Topic3\", \"Topic3\", \"Topic3\", \"Topic3\", \"Topic3\", \"Topic3\", \"Topic3\", \"Topic3\", \"Topic3\", \"Topic3\", \"Topic3\", \"Topic3\", \"Topic3\", \"Topic3\", \"Topic3\", \"Topic3\", \"Topic4\", \"Topic4\", \"Topic4\", \"Topic4\", \"Topic4\", \"Topic4\", \"Topic4\", \"Topic4\", \"Topic4\", \"Topic4\", \"Topic4\", \"Topic4\", \"Topic4\", \"Topic4\", \"Topic4\", \"Topic4\", \"Topic4\", \"Topic4\", \"Topic4\", \"Topic4\", \"Topic4\", \"Topic4\", \"Topic4\", \"Topic4\", \"Topic4\", \"Topic4\", \"Topic4\", \"Topic4\", \"Topic4\", \"Topic4\", \"Topic4\", \"Topic5\", \"Topic5\", \"Topic5\", \"Topic5\", \"Topic5\", \"Topic5\", \"Topic5\", \"Topic5\", \"Topic5\", \"Topic5\", \"Topic5\", \"Topic5\", \"Topic5\", \"Topic5\", \"Topic5\", \"Topic5\", \"Topic5\", \"Topic5\", \"Topic5\", \"Topic5\", \"Topic5\", \"Topic5\", \"Topic5\", \"Topic5\", \"Topic5\", \"Topic5\", \"Topic5\", \"Topic5\", \"Topic5\", \"Topic5\", \"Topic5\", \"Topic5\"], \"logprob\": [30.0, 29.0, 28.0, 27.0, 26.0, 25.0, 24.0, 23.0, 22.0, 21.0, 20.0, 19.0, 18.0, 17.0, 16.0, 15.0, 14.0, 13.0, 12.0, 11.0, 10.0, 9.0, 8.0, 7.0, 6.0, 5.0, 4.0, 3.0, 2.0, 1.0, -4.016300201416016, -4.016300201416016, -4.016300201416016, -4.016300201416016, -4.016300201416016, -4.016300201416016, -4.016300201416016, -4.016300201416016, -4.016300201416016, -4.016300201416016, -4.016300201416016, -4.016300201416016, -4.016300201416016, -4.016300201416016, -4.016300201416016, -4.016300201416016, -4.01639986038208, -4.01639986038208, -4.01639986038208, -4.01639986038208, -4.01639986038208, -4.01639986038208, -4.01639986038208, -4.016499996185303, -4.016499996185303, -4.016499996185303, -4.016600131988525, -4.016600131988525, -4.016600131988525, -4.016600131988525, -3.410599946975708, -4.016200065612793, -4.016499996185303, -4.016499996185303, -3.3798999786376953, -3.3798999786376953, -3.9860000610351562, -3.9860000610351562, -3.9860000610351562, -3.9860000610351562, -3.9860000610351562, -3.9860000610351562, -3.9860000610351562, -3.9860000610351562, -3.9860000610351562, -3.9860000610351562, -3.9860000610351562, -3.9860000610351562, -3.9860000610351562, -3.9860000610351562, -3.9860999584198, -3.9860999584198, -3.9860999584198, -3.9860999584198, -3.9860999584198, -3.9860999584198, -3.986299991607666, -3.986299991607666, -3.986299991607666, -3.986299991607666, -3.9863998889923096, -3.379300117492676, -3.379699945449829, -3.986299991607666, -3.379199981689453, -3.9860999584198, -3.471100091934204, -3.471100091934204, -3.471100091934204, -3.471100091934204, -3.471100091934204, -3.471100091934204, -3.471100091934204, -3.471100091934204, -3.471100091934204, -3.470400094985962, -3.4707999229431152, -5.262700080871582, -5.262700080871582, -5.262700080871582, -5.262700080871582, -5.262700080871582, -5.262700080871582, -5.262700080871582, -5.262700080871582, -5.262700080871582, -5.262700080871582, -5.262700080871582, -5.262700080871582, -5.262800216674805, -5.262800216674805, -5.262800216674805, -5.262800216674805, -5.262800216674805, -5.262800216674805, -5.262800216674805, -5.2606000900268555, -5.260900020599365, -5.261000156402588, -5.261199951171875, -5.261300086975098, -5.262499809265137, -5.262599945068359, -5.262599945068359, -5.2606000900268555, -5.262499809265137, -5.262499809265137, -5.262599945068359, -5.262599945068359, -5.262700080871582, -5.262700080871582, -5.262700080871582, -3.39520001411438, -4.001299858093262, -4.001299858093262, -4.001299858093262, -4.001299858093262, -4.001299858093262, -4.001299858093262, -4.001299858093262, -4.001299858093262, -4.001299858093262, -4.001299858093262, -4.001299858093262, -4.001299858093262, -4.001299858093262, -4.001299858093262, -4.001299858093262, -4.001299858093262, -4.001299858093262, -4.001399993896484, -4.001399993896484, -4.001399993896484, -4.001399993896484, -4.001399993896484, -4.001399993896484, -4.001399993896484, -4.001399993896484, -4.001399993896484, -4.001999855041504, -2.747999906539917, -4.001100063323975, -4.000899791717529, -3.4103000164031982, -4.016300201416016, -4.016300201416016, -4.016300201416016, -4.016300201416016, -4.016300201416016, -4.016300201416016, -4.016300201416016, -4.016300201416016, -4.016300201416016, -4.016300201416016, -4.016300201416016, -4.016300201416016, -4.016300201416016, -4.016300201416016, -4.016300201416016, -4.016300201416016, -4.016300201416016, -4.016300201416016, -4.016300201416016, -4.016499996185303, -4.016499996185303, -4.016499996185303, -4.016499996185303, -4.016600131988525, -4.016600131988525, -4.016600131988525, -4.016600131988525, -4.01669979095459, -4.0167999267578125, -3.4112000465393066, -4.015999794006348]}, \"R\": 30};\n",
       "\n",
       "function LDAvis_load_lib(url, callback){\n",
       "  var s = document.createElement('script');\n",
       "  s.src = url;\n",
       "  s.async = true;\n",
       "  s.onreadystatechange = s.onload = callback;\n",
       "  s.onerror = function(){console.warn(\"failed to load library \" + url);};\n",
       "  document.getElementsByTagName(\"head\")[0].appendChild(s);\n",
       "}\n",
       "\n",
       "if(typeof(LDAvis) !== \"undefined\"){\n",
       "   // already loaded: just create the visualization\n",
       "   !function(LDAvis){\n",
       "       new LDAvis(\"#\" + \"ldavis_el131771406656524982489046850501\", ldavis_el131771406656524982489046850501_data);\n",
       "   }(LDAvis);\n",
       "}else if(typeof define === \"function\" && define.amd){\n",
       "   // require.js is available: use it to load d3/LDAvis\n",
       "   require.config({paths: {d3: \"https://cdnjs.cloudflare.com/ajax/libs/d3/3.5.5/d3.min\"}});\n",
       "   require([\"d3\"], function(d3){\n",
       "      window.d3 = d3;\n",
       "      LDAvis_load_lib(\"https://cdn.rawgit.com/bmabey/pyLDAvis/files/ldavis.v1.0.0.js\", function(){\n",
       "        new LDAvis(\"#\" + \"ldavis_el131771406656524982489046850501\", ldavis_el131771406656524982489046850501_data);\n",
       "      });\n",
       "    });\n",
       "}else{\n",
       "    // require.js not available: dynamically load d3 & LDAvis\n",
       "    LDAvis_load_lib(\"https://cdnjs.cloudflare.com/ajax/libs/d3/3.5.5/d3.min.js\", function(){\n",
       "         LDAvis_load_lib(\"https://cdn.rawgit.com/bmabey/pyLDAvis/files/ldavis.v1.0.0.js\", function(){\n",
       "                 new LDAvis(\"#\" + \"ldavis_el131771406656524982489046850501\", ldavis_el131771406656524982489046850501_data);\n",
       "            })\n",
       "         });\n",
       "}\n",
       "</script>"
      ],
      "text/plain": [
       "<IPython.core.display.HTML object>"
      ]
     },
     "execution_count": 18,
     "metadata": {},
     "output_type": "execute_result"
    }
   ],
   "source": [
    "import pyLDAvis.gensim\n",
    "lda_display = pyLDAvis.gensim.prepare(lda, corpus, dictionary, sort_topics=False)\n",
    "pyLDAvis.display(lda_display)"
   ]
  },
  {
   "cell_type": "code",
   "execution_count": 19,
   "metadata": {},
   "outputs": [
    {
     "data": {
      "text/html": [
       "\n",
       "<link rel=\"stylesheet\" type=\"text/css\" href=\"https://cdn.rawgit.com/bmabey/pyLDAvis/files/ldavis.v1.0.0.css\">\n",
       "\n",
       "\n",
       "<div id=\"ldavis_el131771406656524977681010048370\"></div>\n",
       "<script type=\"text/javascript\">\n",
       "\n",
       "var ldavis_el131771406656524977681010048370_data = {\"mdsDat\": {\"cluster\": [1, 1, 1], \"x\": [0.08060254576861409, -0.07896587848361154, -0.0016366672850025561], \"Freq\": [39.970206496068364, 30.207394577956332, 29.822398925975314], \"topics\": [1, 2, 3], \"y\": [-0.039836997556284844, -0.04236643926230346, 0.08220343681858829]}, \"topic.order\": [1, 2, 3], \"plot.opts\": {\"xlab\": \"PC1\", \"ylab\": \"PC2\"}, \"token.table\": {\"Freq\": [0.9413198312903422, 0.9413199381197987, 0.888245764846726, 0.46248159819417967, 0.46248159819417967, 0.46248159819417967, 0.8882410104504258, 0.9478686017782912, 0.6069593814088442, 0.6069593814088442, 0.9478505450543002, 0.9412886057184914, 0.9412869494009927, 0.3065880628589927, 0.3065880628589927, 0.3065880628589927, 0.9478610727114326, 0.9413193236433577, 0.9413180047063335, 0.8882378608956285, 0.8882466206814132, 0.94131456806157, 0.8882361015751036, 0.8882408362439412, 0.9478646513055098, 0.9413175291519058, 0.6100259803346336, 0.6100259803346336, 0.9412873681117214, 0.9478646768387056, 0.6341996981335717, 0.6341996981335717, 0.9478684917198898, 0.8882359156728442, 0.9478497234870321, 0.6098907845340357, 0.6098907845340357, 0.9413145589293452, 0.8882460766721839, 0.9478491680346334, 0.8882481289032803, 0.9478647911075783, 0.8882567367879216, 0.9413176836847332, 0.9478595441024793, 0.9413092983518575, 0.8882464365797218, 0.9478687806697397, 0.9413151367369892, 0.8882359293422655, 0.941314533081758, 0.9478681415480272, 0.9412894245729186, 0.9412946445263057, 0.8882522647506198, 0.9413139130660652, 0.9478558646903027, 0.9413143500988622, 0.9478604443825493, 0.9413099517881313, 0.8708930222649861, 0.8882355399281522, 0.8882354597866767, 0.6341948913270693, 0.6341948913270693, 0.5844323808997175, 0.8882446332946379, 0.9413141442614025, 0.6062634542569656, 0.2020878180856552, 0.4041756361713104, 0.9478682102200683, 0.941309732630185, 0.609555944805177, 0.609555944805177, 0.9478498819785163, 0.8882504731949039, 0.8882429248591005, 0.9413200847490878, 0.947849717554339, 0.9413171872900306, 0.9413094548699701, 0.8882471673636777, 0.5843998607812099, 0.9478557696765681, 0.8882461449226006, 0.8882389055314373, 0.9478609551972723, 0.9413169711115981, 0.8882401373048343, 0.888247006139694, 0.8882455008928096, 0.8882362343333337, 0.9478652456179443, 0.8882461179702329, 0.9413195464002312, 0.9478589178942932, 0.9478604365343738, 0.9413138484877582, 0.9478588438460782, 0.9478502235563527, 0.6069548294401118, 0.6069548294401118, 0.88825715110691, 0.9478588744891783, 0.9478648727013433, 0.9413095839648421, 0.9413147689576052, 0.9478560511341042, 0.9413189165986494, 0.9478554349556312, 0.9413202257887427, 0.9478592436133713, 0.6070206588709355, 0.6070206588709355, 0.609588381391029, 0.609588381391029, 0.9478509608466957], \"Topic\": [2, 2, 1, 1, 2, 3, 1, 3, 1, 2, 3, 2, 2, 1, 2, 3, 3, 2, 2, 1, 1, 2, 1, 1, 3, 2, 1, 3, 2, 3, 2, 3, 3, 1, 3, 1, 3, 2, 1, 3, 1, 3, 1, 2, 3, 2, 1, 3, 2, 1, 2, 3, 2, 2, 1, 2, 3, 2, 3, 2, 1, 1, 1, 2, 3, 1, 1, 2, 1, 2, 3, 3, 2, 1, 3, 3, 1, 1, 2, 3, 2, 2, 1, 1, 3, 1, 1, 3, 2, 1, 1, 1, 1, 3, 1, 2, 3, 3, 2, 3, 3, 1, 2, 1, 3, 3, 2, 2, 3, 2, 3, 2, 3, 1, 2, 1, 3, 3], \"Term\": [\"3-phase\", \"7-decades\", \"adaptive\", \"algorithm\", \"algorithm\", \"algorithm\", \"allocation\", \"analog\", \"approach\", \"approach\", \"arbitrary\", \"array\", \"bacterial\", \"base\", \"base\", \"base\", \"behavior\", \"bicmos\", \"black\", \"block\", \"channel\", \"chips\", \"circuit\", \"coding\", \"collection\", \"computing\", \"control\", \"control\", \"conveyor\", \"delay\", \"design\", \"design\", \"differential\", \"diffraction\", \"distance\", \"dynamic\", \"dynamic\", \"embed\", \"equalization\", \"estimate\", \"estimation\", \"event\", \"feature\", \"fertile\", \"frame\", \"framework\", \"hybrid\", \"indirect\", \"information\", \"integrate\", \"integrating\", \"inverse\", \"inversion\", \"isfet\", \"joint\", \"level\", \"linear\", \"listener\", \"location\", \"market\", \"method\", \"micromachined\", \"microphone\", \"mobile\", \"mobile\", \"modeling\", \"modulation\", \"monitoring\", \"network\", \"network\", \"network\", \"neural\", \"olfactory\", \"optical\", \"optical\", \"optimal\", \"optimization\", \"organize\", \"oscillator\", \"pair\", \"panel\", \"personal\", \"photovoltaic\", \"power\", \"programmable\", \"quantize\", \"rates\", \"recommendation\", \"research\", \"resource\", \"revision\", \"scheme\", \"sensing\", \"sensor\", \"simplify\", \"sinusoidal\", \"sizing\", \"spatial\", \"specification\", \"switch\", \"switching\", \"system\", \"system\", \"texturing\", \"throughput\", \"tolerant\", \"trading\", \"transactions\", \"transconductor\", \"translinear\", \"triode\", \"tunable\", \"understanding\", \"using\", \"using\", \"voltage\", \"voltage\", \"waveband\"]}, \"lambda.step\": 0.01, \"tinfo\": {\"loglift\": [30.0, 29.0, 28.0, 27.0, 26.0, 25.0, 24.0, 23.0, 22.0, 21.0, 20.0, 19.0, 18.0, 17.0, 16.0, 15.0, 14.0, 13.0, 12.0, 11.0, 10.0, 9.0, 8.0, 7.0, 6.0, 5.0, 4.0, 3.0, 2.0, 1.0, 0.7538, 0.6912, 0.6907, 0.5502, 0.5502, 0.5502, 0.5502, 0.5502, 0.5502, 0.5501, 0.5501, 0.5501, 0.5501, 0.5501, 0.5501, 0.5501, 0.5501, 0.55, 0.55, 0.55, 0.55, 0.55, 0.55, 0.55, 0.55, 0.55, 0.55, 0.55, 0.5499, 0.5499, 0.2541, 0.0456, 0.1764, -0.0999, 0.1756, 0.7733, 0.7733, 0.7733, 0.7733, 0.7733, 0.7733, 0.7733, 0.7732, 0.7732, 0.7732, 0.7732, 0.7732, 0.7732, 0.7732, 0.7732, 0.7732, 0.7732, 0.7732, 0.7732, 0.7731, 0.7731, 0.773, 0.773, 0.773, 0.773, 0.773, 0.7729, 0.7729, 0.7729, 0.7729, 0.7729, 0.3377, 0.3355, 0.3353, 0.779, 0.779, 0.779, 0.779, 0.779, 0.7789, 0.7789, 0.7789, 0.7789, 0.7789, 0.7788, 0.7788, 0.7788, 0.7788, 0.7788, 0.7788, 0.7787, 0.7787, 0.7787, 0.7787, 0.7787, 0.7787, 0.7787, 0.7786, 0.7786, 0.7786, 0.7785, 0.7785, 0.7785, 0.7785, 0.1573, 0.2136, 0.3489, 0.3448, 0.0654, 0.3794, 0.3782], \"Total\": [2.0, 1.0, 1.0, 1.0, 1.0, 1.0, 1.0, 1.0, 1.0, 1.0, 1.0, 1.0, 1.0, 1.0, 1.0, 1.0, 1.0, 1.0, 1.0, 1.0, 1.0, 1.0, 1.0, 1.0, 1.0, 1.0, 1.0, 1.0, 1.0, 1.0, 2.296493310738068, 1.7111571495982685, 1.7110619340778614, 1.125827604586024, 1.1258275030076912, 1.1258270267561674, 1.1258270094303608, 1.1258267911276136, 1.1258266228584457, 1.1258245612179596, 1.1258232371635373, 1.125821675920068, 1.125820790033308, 1.1258205692314311, 1.125818142777357, 1.125815977396727, 1.125814877750421, 1.1258145431997169, 1.1258141479740642, 1.125814095630545, 1.1258140614695686, 1.1258136918067423, 1.125813458465911, 1.1258129699147341, 1.1258127655706522, 1.1258115468643877, 1.1258085755959688, 1.125806304902306, 1.1258006368926172, 1.125800111773759, 4.948343791688367, 3.261705595041136, 1.6405385076174008, 2.1622481930192072, 1.6404512135190057, 1.0623377386394612, 1.062338183855343, 1.062338063291647, 1.0623378978114055, 1.0623385053717125, 1.0623387567669598, 1.0623392161430136, 1.0623402452734065, 1.0623407819686148, 1.0623411677831063, 1.0623406075678492, 1.062341411755387, 1.0623438970445367, 1.062343481978244, 1.0623441237707387, 1.0623441632480828, 1.0623441340771398, 1.062344935864401, 1.0623443697580668, 1.0623448629828294, 1.062344602061244, 1.062366609451217, 1.0623725008423626, 1.0623734250312038, 1.0623495809459274, 1.0623497487276725, 1.0623500710668685, 1.0623498944224854, 1.0623493336072565, 1.0623748218421964, 1.0623752944161933, 1.6473903900733957, 1.6475567074667323, 1.6475690636195357, 1.0549983503976423, 1.0549985495077117, 1.0549986720051412, 1.0549989853207844, 1.0549990617543414, 1.0550022850010365, 1.0550027908848707, 1.055002918069671, 1.0550029464889141, 1.0550027000684976, 1.055007060388806, 1.0550069295908733, 1.0550076289462793, 1.0550076376816213, 1.0550089654534158, 1.0550086309959479, 1.0550093763050135, 1.055009327993179, 1.0550094104121572, 1.0550125188350128, 1.0550127263565907, 1.0550128321118146, 1.05501320467378, 1.055018184617042, 1.0550190052685542, 1.0550193854670604, 1.05501864742053, 1.055019561878557, 1.0550195684820376, 1.0550201801342523, 4.948343791688367, 3.261705595041136, 1.6392744444284877, 1.6396378259166724, 2.1622481930192072, 1.5767904067803347, 1.5768023578800423], \"Term\": [\"method\", \"power\", \"modeling\", \"design\", \"mobile\", \"indirect\", \"analog\", \"differential\", \"neural\", \"inverse\", \"sensor\", \"event\", \"delay\", \"collection\", \"tolerant\", \"recommendation\", \"behavior\", \"location\", \"spatial\", \"understanding\", \"frame\", \"sizing\", \"throughput\", \"switch\", \"transconductor\", \"linear\", \"programmable\", \"triode\", \"waveband\", \"switching\", \"method\", \"power\", \"modeling\", \"microphone\", \"micromachined\", \"diffraction\", \"integrate\", \"circuit\", \"sensing\", \"block\", \"rates\", \"resource\", \"coding\", \"allocation\", \"organize\", \"modulation\", \"scheme\", \"adaptive\", \"equalization\", \"simplify\", \"quantize\", \"hybrid\", \"channel\", \"revision\", \"photovoltaic\", \"estimation\", \"optimization\", \"joint\", \"feature\", \"texturing\", \"network\", \"base\", \"optical\", \"algorithm\", \"voltage\", \"tunable\", \"3-phase\", \"7-decades\", \"oscillator\", \"sinusoidal\", \"bicmos\", \"translinear\", \"black\", \"computing\", \"panel\", \"fertile\", \"research\", \"transactions\", \"information\", \"chips\", \"integrating\", \"embed\", \"specification\", \"listener\", \"level\", \"monitoring\", \"isfet\", \"inversion\", \"array\", \"olfactory\", \"trading\", \"framework\", \"personal\", \"market\", \"conveyor\", \"bacterial\", \"using\", \"approach\", \"system\", \"indirect\", \"analog\", \"differential\", \"neural\", \"inverse\", \"sensor\", \"event\", \"delay\", \"collection\", \"tolerant\", \"recommendation\", \"behavior\", \"location\", \"spatial\", \"understanding\", \"frame\", \"throughput\", \"sizing\", \"switch\", \"transconductor\", \"linear\", \"programmable\", \"triode\", \"waveband\", \"switching\", \"optimal\", \"arbitrary\", \"distance\", \"pair\", \"estimate\", \"network\", \"base\", \"control\", \"dynamic\", \"algorithm\", \"design\", \"mobile\"], \"Freq\": [2.0, 1.0, 1.0, 1.0, 1.0, 1.0, 1.0, 1.0, 1.0, 1.0, 1.0, 1.0, 1.0, 1.0, 1.0, 1.0, 1.0, 1.0, 1.0, 1.0, 1.0, 1.0, 1.0, 1.0, 1.0, 1.0, 1.0, 1.0, 1.0, 1.0, 1.9505457722020292, 1.365292456865776, 1.3644996712504576, 0.7800896903120181, 0.7800891408687302, 0.7800844400761551, 0.7800841348298839, 0.7800826085985284, 0.7800813265641898, 0.780068139925278, 0.7800570289610097, 0.7800440865191147, 0.7800363332638287, 0.7800348070324731, 0.7800155154681392, 0.7799973838396355, 0.7799884706485192, 0.779973818827506, 0.7799708884633034, 0.7799700337737443, 0.7799698506259816, 0.7799681412468634, 0.7799642951438475, 0.7799621584199498, 0.7799605711393399, 0.7799499485691055, 0.7799364566839225, 0.7799171651195886, 0.7798579473429939, 0.7798533075996731, 2.550022220688263, 1.364487095104088, 0.782253642177148, 0.7821040715043056, 0.7815344819624205, 0.6953889863718146, 0.6953885711312728, 0.6953839573474758, 0.6953836805204481, 0.6953840034853138, 0.6953817888690913, 0.6953766214312386, 0.6953144276256547, 0.6953137816959231, 0.6953062612283339, 0.6953043234391392, 0.6953014167553471, 0.6952892825039608, 0.6952869756120623, 0.6952794551444732, 0.6952774712174404, 0.6952763177714912, 0.6952765484606811, 0.6952749797741901, 0.6952701353012032, 0.6952683820633603, 0.6952126936929302, 0.695167939990099, 0.6951595890414264, 0.6951382272224461, 0.6951348130224364, 0.6951317679251303, 0.6951312604089126, 0.6951308451683709, 0.6951464397576048, 0.6951449633467898, 0.6975671537023914, 0.6960919424711298, 0.6959701385788882, 0.685644763979365, 0.6856425320387952, 0.685641848791682, 0.6856381592572707, 0.6856370660618895, 0.6855760293197761, 0.6855722486857497, 0.6855722486857497, 0.6855722486857497, 0.6855718842872893, 0.6855184543630363, 0.6855182721638061, 0.6855142182309344, 0.6855086156046061, 0.6854990045952136, 0.6854984579975231, 0.6854920810244665, 0.6854920354746589, 0.6854904412313947, 0.6854451647226927, 0.6854418395867418, 0.6854407919411681, 0.6854365558090663, 0.6853976107236133, 0.6853906871528661, 0.6853810761434737, 0.6853321101003602, 0.6853313357536319, 0.6853269174222999, 0.6853192650546319, 1.7271486748167213, 1.2043612351481765, 0.6929906725421352, 0.6902877014124701, 0.6883823074129585, 0.687227528692019, 0.6863609436034314], \"Category\": [\"Default\", \"Default\", \"Default\", \"Default\", \"Default\", \"Default\", \"Default\", \"Default\", \"Default\", \"Default\", \"Default\", \"Default\", \"Default\", \"Default\", \"Default\", \"Default\", \"Default\", \"Default\", \"Default\", \"Default\", \"Default\", \"Default\", \"Default\", \"Default\", \"Default\", \"Default\", \"Default\", \"Default\", \"Default\", \"Default\", \"Topic1\", \"Topic1\", \"Topic1\", \"Topic1\", \"Topic1\", \"Topic1\", \"Topic1\", \"Topic1\", \"Topic1\", \"Topic1\", \"Topic1\", \"Topic1\", \"Topic1\", \"Topic1\", \"Topic1\", \"Topic1\", \"Topic1\", \"Topic1\", \"Topic1\", \"Topic1\", \"Topic1\", \"Topic1\", \"Topic1\", \"Topic1\", \"Topic1\", \"Topic1\", \"Topic1\", \"Topic1\", \"Topic1\", \"Topic1\", \"Topic1\", \"Topic1\", \"Topic1\", \"Topic1\", \"Topic1\", \"Topic2\", \"Topic2\", \"Topic2\", \"Topic2\", \"Topic2\", \"Topic2\", \"Topic2\", \"Topic2\", \"Topic2\", \"Topic2\", \"Topic2\", \"Topic2\", \"Topic2\", \"Topic2\", \"Topic2\", \"Topic2\", \"Topic2\", \"Topic2\", \"Topic2\", \"Topic2\", \"Topic2\", \"Topic2\", \"Topic2\", \"Topic2\", \"Topic2\", \"Topic2\", \"Topic2\", \"Topic2\", \"Topic2\", \"Topic2\", \"Topic2\", \"Topic2\", \"Topic2\", \"Topic2\", \"Topic3\", \"Topic3\", \"Topic3\", \"Topic3\", \"Topic3\", \"Topic3\", \"Topic3\", \"Topic3\", \"Topic3\", \"Topic3\", \"Topic3\", \"Topic3\", \"Topic3\", \"Topic3\", \"Topic3\", \"Topic3\", \"Topic3\", \"Topic3\", \"Topic3\", \"Topic3\", \"Topic3\", \"Topic3\", \"Topic3\", \"Topic3\", \"Topic3\", \"Topic3\", \"Topic3\", \"Topic3\", \"Topic3\", \"Topic3\", \"Topic3\", \"Topic3\", \"Topic3\", \"Topic3\", \"Topic3\", \"Topic3\", \"Topic3\"], \"logprob\": [30.0, 29.0, 28.0, 27.0, 26.0, 25.0, 24.0, 23.0, 22.0, 21.0, 20.0, 19.0, 18.0, 17.0, 16.0, 15.0, 14.0, 13.0, 12.0, 11.0, 10.0, 9.0, 8.0, 7.0, 6.0, 5.0, 4.0, 3.0, 2.0, 1.0, -3.514699935913086, -3.871500015258789, -3.871999979019165, -4.43120002746582, -4.43120002746582, -4.43120002746582, -4.43120002746582, -4.43120002746582, -4.43120002746582, -4.43120002746582, -4.43120002746582, -4.43120002746582, -4.43120002746582, -4.43120002746582, -4.431300163269043, -4.431300163269043, -4.431300163269043, -4.431300163269043, -4.431300163269043, -4.431300163269043, -4.431300163269043, -4.431300163269043, -4.431300163269043, -4.431300163269043, -4.431300163269043, -4.431399822235107, -4.431399822235107, -4.431399822235107, -4.43149995803833, -4.43149995803833, -3.2467000484466553, -3.8721001148223877, -4.428400039672852, -4.428599834442139, -4.429299831390381, -4.26609992980957, -4.26609992980957, -4.26609992980957, -4.26609992980957, -4.26609992980957, -4.26609992980957, -4.26609992980957, -4.266200065612793, -4.266200065612793, -4.266200065612793, -4.266200065612793, -4.266200065612793, -4.266200065612793, -4.266200065612793, -4.266200065612793, -4.266200065612793, -4.266200065612793, -4.266200065612793, -4.266200065612793, -4.266200065612793, -4.266200065612793, -4.266300201416016, -4.26639986038208, -4.26639986038208, -4.26639986038208, -4.26639986038208, -4.26639986038208, -4.26639986038208, -4.26639986038208, -4.26639986038208, -4.26639986038208, -4.262899875640869, -4.265100002288818, -4.265200138092041, -4.267399787902832, -4.267399787902832, -4.267399787902832, -4.267399787902832, -4.267399787902832, -4.267499923706055, -4.267499923706055, -4.267499923706055, -4.267499923706055, -4.267499923706055, -4.267499923706055, -4.267499923706055, -4.267499923706055, -4.267600059509277, -4.267600059509277, -4.267600059509277, -4.267600059509277, -4.267600059509277, -4.267600059509277, -4.267600059509277, -4.267600059509277, -4.267600059509277, -4.2677001953125, -4.2677001953125, -4.2677001953125, -4.2677001953125, -4.2677998542785645, -4.2677998542785645, -4.2677998542785645, -4.2677998542785645, -3.3434998989105225, -3.7039999961853027, -4.256700038909912, -4.2606000900268555, -4.263400077819824, -4.264999866485596, -4.266300201416016]}, \"R\": 30};\n",
       "\n",
       "function LDAvis_load_lib(url, callback){\n",
       "  var s = document.createElement('script');\n",
       "  s.src = url;\n",
       "  s.async = true;\n",
       "  s.onreadystatechange = s.onload = callback;\n",
       "  s.onerror = function(){console.warn(\"failed to load library \" + url);};\n",
       "  document.getElementsByTagName(\"head\")[0].appendChild(s);\n",
       "}\n",
       "\n",
       "if(typeof(LDAvis) !== \"undefined\"){\n",
       "   // already loaded: just create the visualization\n",
       "   !function(LDAvis){\n",
       "       new LDAvis(\"#\" + \"ldavis_el131771406656524977681010048370\", ldavis_el131771406656524977681010048370_data);\n",
       "   }(LDAvis);\n",
       "}else if(typeof define === \"function\" && define.amd){\n",
       "   // require.js is available: use it to load d3/LDAvis\n",
       "   require.config({paths: {d3: \"https://cdnjs.cloudflare.com/ajax/libs/d3/3.5.5/d3.min\"}});\n",
       "   require([\"d3\"], function(d3){\n",
       "      window.d3 = d3;\n",
       "      LDAvis_load_lib(\"https://cdn.rawgit.com/bmabey/pyLDAvis/files/ldavis.v1.0.0.js\", function(){\n",
       "        new LDAvis(\"#\" + \"ldavis_el131771406656524977681010048370\", ldavis_el131771406656524977681010048370_data);\n",
       "      });\n",
       "    });\n",
       "}else{\n",
       "    // require.js not available: dynamically load d3 & LDAvis\n",
       "    LDAvis_load_lib(\"https://cdnjs.cloudflare.com/ajax/libs/d3/3.5.5/d3.min.js\", function(){\n",
       "         LDAvis_load_lib(\"https://cdn.rawgit.com/bmabey/pyLDAvis/files/ldavis.v1.0.0.js\", function(){\n",
       "                 new LDAvis(\"#\" + \"ldavis_el131771406656524977681010048370\", ldavis_el131771406656524977681010048370_data);\n",
       "            })\n",
       "         });\n",
       "}\n",
       "</script>"
      ],
      "text/plain": [
       "<IPython.core.display.HTML object>"
      ]
     },
     "execution_count": 19,
     "metadata": {},
     "output_type": "execute_result"
    }
   ],
   "source": [
    "lda3 = gensim.models.ldamodel.LdaModel.load('model3.gensim')\n",
    "lda_display3 = pyLDAvis.gensim.prepare(lda3, corpus, dictionary, sort_topics=False)\n",
    "pyLDAvis.display(lda_display3)"
   ]
  },
  {
   "cell_type": "code",
   "execution_count": 20,
   "metadata": {},
   "outputs": [
    {
     "data": {
      "text/html": [
       "\n",
       "<link rel=\"stylesheet\" type=\"text/css\" href=\"https://cdn.rawgit.com/bmabey/pyLDAvis/files/ldavis.v1.0.0.css\">\n",
       "\n",
       "\n",
       "<div id=\"ldavis_el131771406651075277445562713578\"></div>\n",
       "<script type=\"text/javascript\">\n",
       "\n",
       "var ldavis_el131771406651075277445562713578_data = {\"mdsDat\": {\"cluster\": [1, 1, 1, 1, 1, 1, 1, 1, 1, 1], \"x\": [0.11692288617029697, 0.01820650067350278, -0.04401439952467428, 0.00607102841682116, 0.02590051429303779, 0.09288941911392407, -0.15037881369697534, -0.08669904106880216, 0.006071029063714286, 0.015030876559154652], \"Freq\": [14.071329999091327, 5.081813279917986, 18.714194288043036, 1.3470590834450187, 9.757328197893681, 14.504943081676272, 16.90287891134159, 10.777955907764198, 1.3470590834450187, 7.4954381673818755], \"topics\": [1, 2, 3, 4, 5, 6, 7, 8, 9, 10], \"y\": [-0.010686356244799865, 0.009214556443702409, -0.18351900156685153, -0.0029002452691955162, 0.09367627700927315, -0.0027923419459675238, 0.06425359456486793, 9.452672021023131e-06, -0.002900244393847209, 0.03564430873079711]}, \"topic.order\": [1, 2, 3, 4, 5, 6, 7, 8, 9, 10], \"plot.opts\": {\"xlab\": \"PC1\", \"ylab\": \"PC2\"}, \"token.table\": {\"Freq\": [1.0230985126524252, 0.9289152108517424, 0.9133649802126039, 0.43426935728668176, 0.43426935728668176, 0.8681518730202948, 0.9637616853608706, 0.8853974076767344, 0.5665833290829752, 0.5665833290829752, 0.9289152052272079, 0.9289149145635086, 0.9986984706011554, 1.023098507028312, 0.8853974076767344, 1.023098507028312, 0.2921078899765614, 0.2921078899765614, 0.2921078899765614, 0.2921078899765614, 0.885397610063103, 0.868152260019442, 0.8681518730202948, 0.92891489321259, 0.9133649802126039, 1.023098507028312, 0.9133650541405695, 0.8853972862449575, 0.868151837210422, 0.8681520884505229, 0.9986989714532285, 0.928915222192658, 0.8681522529200728, 0.6275701952272779, 1.0230985237160666, 0.9986984754980139, 0.9289152241533287, 1.023098532445978, 0.8681521315365814, 0.585578331643597, 0.585578331643597, 0.9637616853608706, 0.8853972862449575, 0.9986986661919782, 0.9289152150328982, 0.5918496770586688, 0.5918496770586688, 0.8853974076767344, 0.9133650541405695, 0.9133649802126039, 0.9289152206021497, 0.928914803292454, 0.8681521264470172, 0.9289148981316674, 0.8681522548849319, 0.9986986647725585, 0.9133651558336103, 0.9133654131433365, 0.998698695593031, 0.928914803292454, 0.9637616853608706, 0.9986986835625641, 0.9133654158617716, 0.8681522607947825, 0.8853972862449575, 0.8681522592441016, 0.9637616853608706, 1.023098507028312, 1.023098507028312, 0.8681518730202948, 0.8853974076767344, 0.9986984534316156, 0.9133650541405695, 0.9289152005819108, 0.9637619754699335, 0.9133650487562175, 0.8853976068368599, 0.9133654252124953, 1.023098507028312, 0.4270930136133727, 0.4270930136133727, 0.8853972862449575, 0.8853972862449575, 0.9986983576098959, 0.5488496934635024, 0.9289149145635086, 0.6064352170129245, 0.6064352170129245, 0.8681518389731121, 0.9133650541405695, 0.9986983576098959, 0.18215531498129287, 0.18215531498129287, 0.36431062996258573, 0.18215531498129287, 0.9637616853608706, 0.9986986782723362, 0.5627080096485095, 0.885397710572201, 0.8681518299342621, 0.8681518730202948, 0.9637621324498065, 0.928915219180879, 0.8681522567451935, 0.8853974068702849, 0.9986986762202311, 0.928914803292454, 0.5556944945216631, 0.5556944945216631, 0.9637619642440927, 0.9133649802126039, 0.9637621375942658, 0.8681518730202948, 0.885397610063103, 0.8681522445562587, 0.8681518388483229, 0.928914803292454, 0.8681518347987378, 0.998698930819262, 0.8853972862449575, 0.8681521315365814, 0.9289152357838091, 0.9986986700627865, 0.9133649802126039, 0.9133651590711984, 0.8853975849596244, 0.9133650541405695, 0.9133651529773184, 0.8853977284526164, 0.5725285195038576, 0.5725285195038576, 0.9289148870465409, 0.9133651350805104, 0.8681521315365814, 0.9986986741675613, 0.9133654339863563, 0.8681522607947825, 0.9637619214124211, 0.963761984897246, 0.8853975940191534, 0.6287266583179136, 0.6287266583179136, 0.5933737801326107, 0.5933737801326107, 0.9986989035065253, 0.8853977244199225, 0.9289152185840771], \"Topic\": [10, 1, 6, 1, 6, 3, 8, 7, 3, 6, 1, 1, 5, 10, 7, 10, 1, 7, 8, 10, 7, 3, 3, 1, 6, 10, 6, 7, 3, 3, 5, 1, 3, 8, 10, 5, 1, 10, 3, 3, 8, 8, 7, 5, 1, 1, 6, 7, 6, 6, 1, 1, 3, 1, 3, 5, 6, 6, 5, 1, 8, 5, 6, 3, 7, 3, 8, 10, 10, 3, 7, 5, 6, 1, 8, 6, 7, 6, 10, 1, 3, 7, 7, 5, 3, 1, 5, 7, 3, 6, 5, 3, 6, 7, 8, 8, 5, 7, 7, 3, 3, 8, 1, 3, 7, 5, 1, 3, 7, 8, 6, 8, 3, 7, 3, 3, 1, 3, 5, 7, 3, 1, 5, 6, 6, 7, 6, 6, 7, 1, 3, 1, 6, 3, 5, 6, 3, 8, 8, 7, 6, 10, 7, 8, 5, 7, 1], \"Term\": [\"activity\", \"adapt\", \"adaptive\", \"algorithm\", \"algorithm\", \"allocation\", \"analog\", \"analysis\", \"approach\", \"approach\", \"arbitrary\", \"architectural\", \"architecture\", \"array\", \"asymptotics\", \"bacterial\", \"base\", \"base\", \"base\", \"base\", \"behavior\", \"black\", \"block\", \"cellular\", \"channel\", \"chemical\", \"chips\", \"circuit\", \"coding\", \"collection\", \"comic_strip\", \"composition\", \"computing\", \"control\", \"conveyor\", \"cross\", \"crypto\", \"current\", \"delay\", \"design\", \"design\", \"differential\", \"diffraction\", \"display\", \"distance\", \"dynamic\", \"dynamic\", \"effort\", \"embed\", \"equalization\", \"estimate\", \"estimation\", \"event\", \"feature\", \"fertile\", \"fragment\", \"frame\", \"framework\", \"graph\", \"hybrid\", \"indirect\", \"individual\", \"inform\", \"information\", \"integrate\", \"integrating\", \"inverse\", \"inversion\", \"isfet\", \"joint\", \"large\", \"layer\", \"level\", \"light\", \"linear\", \"listener\", \"location\", \"market\", \"measurement\", \"method\", \"method\", \"micromachined\", \"microphone\", \"millimeter\", \"mobile\", \"model\", \"modeling\", \"modeling\", \"modulation\", \"monitoring\", \"multi\", \"network\", \"network\", \"network\", \"network\", \"neural\", \"olfactory\", \"optical\", \"optimal\", \"optimization\", \"organize\", \"oscillation\", \"pair\", \"panel\", \"performance\", \"personal\", \"photovoltaic\", \"power\", \"power\", \"programmable\", \"quantize\", \"queue\", \"rates\", \"recommendation\", \"research\", \"resource\", \"revision\", \"scheme\", \"seeing\", \"sensing\", \"sensor\", \"service\", \"signing\", \"simplify\", \"sizing\", \"spatial\", \"specification\", \"switch\", \"switching\", \"system\", \"system\", \"texturing\", \"throughput\", \"tolerant\", \"track\", \"trading\", \"transactions\", \"transconductor\", \"triode\", \"understanding\", \"using\", \"using\", \"voltage\", \"voltage\", \"walls</i\", \"waveband\", \"weight\"]}, \"lambda.step\": 0.01, \"tinfo\": {\"loglift\": [30.0, 29.0, 28.0, 27.0, 26.0, 25.0, 24.0, 23.0, 22.0, 21.0, 20.0, 19.0, 18.0, 17.0, 16.0, 15.0, 14.0, 13.0, 12.0, 11.0, 10.0, 9.0, 8.0, 7.0, 6.0, 5.0, 4.0, 3.0, 2.0, 1.0, 1.463, 1.463, 1.463, 1.463, 1.463, 1.463, 1.463, 1.463, 1.463, 1.463, 1.463, 1.463, 1.463, 1.463, 1.463, 1.463, 1.463, 1.463, 1.463, 1.3326, 1.0122, 0.9791, 0.7026, 0.3061, -0.7361, -0.7361, -0.7361, -0.7361, -0.7361, -0.7361, -2.564, -0.8624, -0.9829, -1.0025, -0.9518, -0.9829, 2.2853, 2.2853, 2.2853, 2.2853, 2.2853, 2.2853, 2.2853, -0.2148, -0.2148, -0.2148, -0.2148, -0.2148, -0.2148, -0.2148, -0.2148, -0.2148, -0.239, -0.239, -0.239, -0.239, -0.239, -0.239, -0.239, -0.239, -0.239, -0.239, -0.239, -0.239, -0.239, -0.239, -0.7954, -1.0718, -0.7622, -1.4683, -1.9406, -0.8376, -0.3283, -0.3114, -0.3114, -0.7596, -0.3791, -0.3594, -0.239, -0.3594, -0.3114, -0.3791, -0.3791, 1.4176, 1.2295, 1.2295, 1.2295, 1.2295, 1.2295, 1.2295, 1.2295, 1.2295, 1.2295, 1.2295, 1.2295, 1.2295, 1.2295, 1.2295, 1.2295, 1.2295, 1.2295, 1.2295, 1.2295, 1.2295, 1.2295, 1.2295, 1.2295, 0.8357, 0.8132, 0.8028, 0.7834, 0.5201, 0.3146, 0.2977, 0.2977, 0.2977, 0.2977, 0.2977, 0.2977, 0.2977, 0.1954, 0.1954, 0.1954, 0.1954, 0.1954, 0.1954, 0.1954, 0.1954, 0.1954, 0.1713, 0.1713, 0.1713, 0.1713, 0.1713, 0.1713, 0.1713, 0.1713, 0.1713, 0.1713, 0.1713, 0.1713, 0.1713, 0.1713, -1.5303, 0.0312, -0.3519, 0.0312, 0.0312, 0.0989, 0.0509, 0.1713, 0.1713, 0.0312, 0.0509, 0.1357, 0.0989, 0.0509, 0.0509, 0.082, 0.0989, 0.0312, 0.0312, 0.0989, 0.0312, 0.0509, 1.7664, 1.7664, 1.7664, 1.7664, 1.7664, 1.7664, 1.7664, 1.7664, 1.7664, 1.7664, 1.7664, 1.7664, 1.7664, 1.7664, 1.7664, 1.7664, 1.2675, -0.5052, -0.5052, -0.5052, -0.5052, -0.5052, -0.5052, -0.5052, -0.6074, -0.6074, -0.6074, -0.6074, -0.6074, -0.6074, -2.3331, -0.7716, -1.1547, -0.6671, -0.704, -0.7519, -0.7519, -0.7716, -0.6074, -0.7716, 1.4461, 1.4461, 1.4461, 1.4461, 1.4461, 1.4461, 1.4461, 1.4461, 1.4461, 1.4461, 1.4461, 1.4461, 1.4461, 1.4461, 1.4461, 1.4461, 1.4461, 1.4461, 1.4461, 1.3493, 1.0727, 1.0123, 0.9686, -0.1662, -0.7361, -0.7361, -0.7361, -0.7361, -0.7361, -0.7361, -2.0918, -0.8624, -1.0025, -0.8383, -0.9349, -0.9829, 1.5103, 1.3169, 1.3169, 1.3169, 1.3169, 1.3169, 1.3169, 1.3169, 1.3169, 1.3169, 1.3169, 1.3169, 1.3169, 1.3169, 1.3169, 1.3169, 1.3169, 1.3169, 1.3169, 1.3169, 0.9385, 0.9167, 0.8546, 0.8511, 0.7718, -0.8342, -0.8342, -0.8342, -0.8342, -0.8342, -0.8342, -1.4233, -0.9606, -1.033, -1.033, -0.9606, 1.9164, 1.6988, 1.6988, 1.6988, 1.6988, 1.6988, 1.6988, 1.6988, 1.6988, 1.6988, 1.6988, 1.6988, 1.2138, 1.2006, 0.6794, 0.5051, -0.5371, -0.5371, -0.5371, -0.5371, -0.5371, -0.5371, -0.5371, -0.6393, -0.6393, -0.6393, -0.6393, -0.6393, -0.6393, -0.6393, -0.8036, -0.7839, -0.8036, -0.6635, -0.6635, -1.1867, -0.7839, -0.7359, -0.7359, -0.8036, -0.7839, -0.7359, 0.2977, 0.2977, 0.2977, 0.2977, 0.2977, 0.2977, 0.2977, 0.1954, 0.1954, 0.1954, 0.1954, 0.1954, 0.1954, 0.1954, 0.1954, 0.1954, 0.1713, 0.1713, 0.1713, 0.1713, 0.1713, 0.1713, 0.1713, 0.1713, 0.1713, 0.1713, 0.1713, 0.1713, 0.1713, 0.1713, -1.5303, 0.0312, -0.3519, 0.0312, 0.0312, 0.0989, 0.0509, 0.1713, 0.1713, 0.0312, 0.0509, 0.1357, 0.0989, 0.0509, 0.0509, 0.082, 0.0989, 0.0312, 0.0312, 0.0989, 0.0312, 0.0509, 2.0072, 2.0072, 2.0072, 2.0072, 2.0072, 2.0072, 2.0072, 2.0072, 2.0072, 1.5203, 0.7537, -0.2885, -0.2885, -0.2885, -0.2885, -0.2885, -0.2885, -0.2885, -0.4149, -0.4149, -0.4149, -0.4149, -0.4149, -0.4149, -0.4149, -0.4149, -0.4149, -0.4149, -0.4149, -0.4149, -0.9381, -1.2477, -2.1165, -0.5353, -0.4873, -0.5353, -0.5549, -0.5353, -0.4149, -0.5549, -0.5353, -0.4873, -0.5549, -0.5042, -0.4873, -0.5549], \"Total\": [5.0, 1.0, 3.0, 2.0, 2.0, 1.0, 1.0, 0.0, 0.0, 0.0, 0.0, 0.0, 0.0, 0.0, 1.0, 0.0, 0.0, 0.0, 0.0, 0.0, 0.0, 0.0, 0.0, 0.0, 1.0, 1.0, 1.0, 1.0, 1.0, 1.0, 1.0765249907263734, 1.0765249907263734, 1.0765249907263734, 1.0765249907263734, 1.0765248617736898, 1.0765248617736898, 1.0765248808166459, 1.0765248865173933, 1.0765248936632636, 1.0765244895097563, 1.076524502988378, 1.0765245052606092, 1.0765245071038572, 1.076524508750975, 1.0765245094426117, 1.0765245135580908, 1.0765245184036532, 1.0765245249219546, 1.076524530305413, 2.341410344176815, 1.6896182236167245, 1.7466378807933987, 2.3027183088579117, 3.423392637837477, 0.8824388637071395, 0.8824388583341111, 0.8824388583341111, 0.8824388583341111, 0.8824388583341111, 0.8824388583341111, 5.489820596795097, 1.0013033388712276, 1.1294359222579784, 1.1518716763860208, 1.094852041029853, 1.1294359274021857, 0.8824388583341111, 0.8824388583341111, 0.8824388583341111, 0.8824388583341111, 0.8824388583341111, 0.8824388583341111, 0.8824388637071395, 0.9774229639536721, 0.9774229722938425, 0.977422982863555, 0.9774229882365835, 0.9774229882365835, 0.9774229882365835, 0.9774229882365835, 0.9774229882365835, 0.9774229882365835, 1.0013027641670456, 1.0013027234271388, 1.0013027915509933, 1.0013030294843426, 1.0013030309074638, 1.0013030000066199, 1.0013030173724822, 1.0013030194299386, 1.0013030214879612, 1.0013030256034403, 1.0013030120684587, 1.0013032255852572, 1.001303242799578, 1.001303220675627, 1.7466378807933987, 2.3027183088579117, 1.6896182236167245, 3.423392637837477, 5.489820596795097, 1.821992454235557, 1.0948523888114614, 1.0765245052606092, 1.0765245249219546, 1.6852783750851177, 1.1518718546397864, 1.1294359274021857, 1.0013033388712276, 1.1294359450666929, 1.0765248936632636, 1.1518721908886822, 1.1518716979314303, 1.821992454235557, 1.1518722360628109, 1.1518722362283824, 1.1518722384015652, 1.151872241601411, 1.1518722480556445, 1.1518721908886822, 1.1518721908886822, 1.1518721908886822, 1.1518721908886822, 1.1518721908886822, 1.1518719050538704, 1.1518718478869079, 1.1518718478869079, 1.1518718478869079, 1.1518718546397864, 1.1518716763860208, 1.1518716763860208, 1.151871677414749, 1.1518716784434773, 1.1518716817590493, 1.15187168422726, 1.1518716868342516, 1.1518716979314303, 1.7077134619944139, 1.7466378807933987, 1.7649654493338467, 1.799549950302803, 2.341410344176815, 5.489820596795097, 0.8824388583341111, 0.8824388583341111, 0.8824388583341111, 0.8824388583341111, 0.8824388583341111, 0.8824388583341111, 0.8824388637071395, 0.9774229639536721, 0.9774229722938425, 0.977422982863555, 0.9774229882365835, 0.9774229882365835, 0.9774229882365835, 0.9774229882365835, 0.9774229882365835, 0.9774229882365835, 1.0013027641670456, 1.0013027234271388, 1.0013027915509933, 1.0013030194299386, 1.0013030000066199, 1.0013030120684587, 1.0013030173724822, 1.0013030214879612, 1.0013030256034403, 1.0013030294843426, 1.0013030309074638, 1.0013032255852572, 1.001303220675627, 1.001303242799578, 5.489820596795097, 1.1518721908886822, 1.6896182236167245, 1.1518716763860208, 1.1518716979314303, 1.0765248936632636, 1.1294359450666929, 1.0013033388712276, 1.0013033388712276, 1.1518718546397864, 1.1294359274021857, 1.037600607930538, 1.0765248865173933, 1.1294359222579784, 1.1294363314480225, 1.094852041029853, 1.0765245052606092, 1.1518721908886822, 1.1518722480556445, 1.0765248808166459, 1.151871677414749, 1.1294360773941603, 1.0013033388712276, 1.0013033388712276, 1.001303220675627, 1.0013032255852572, 1.001303242799578, 1.0013030000066199, 1.0013030120684587, 1.0013030173724822, 1.0013030194299386, 1.0013030214879612, 1.0013030256034403, 1.0013030294843426, 1.0013030309074638, 1.0013027915509933, 1.0013027234271388, 1.0013027641670456, 1.6489807516879216, 0.8824388583341111, 0.8824388583341111, 0.8824388583341111, 0.8824388583341111, 0.8824388583341111, 0.8824388583341111, 0.8824388637071395, 0.9774229639536721, 0.9774229722938425, 0.977422982863555, 0.9774229882365835, 0.9774229882365835, 0.9774229882365835, 5.489820596795097, 1.1518718546397864, 1.6896182236167245, 1.037600607930538, 1.0765248936632636, 1.1294359274021857, 1.1294359450666929, 1.1518721908886822, 0.9774229882365835, 1.1518716979314303, 1.094852574451924, 1.094852574451924, 1.094852574451924, 1.094852574451924, 1.094852574451924, 1.0948524858343192, 1.0948524858343192, 1.0948524858343192, 1.0948524858343192, 1.0948524858343192, 1.0948524922885525, 1.0948523600537825, 1.0948523639346848, 1.0948523673585269, 1.0948523888114614, 1.0948520554971657, 1.0948520305126173, 1.094852041029853, 1.094852052238575, 2.3027183088579117, 1.5905163027051943, 1.6896182236167245, 1.7649654493338467, 5.489820596795097, 0.8824388583341111, 0.8824388583341111, 0.8824388583341111, 0.8824388583341111, 0.8824388583341111, 0.8824388583341111, 3.423392637837477, 1.0013027641670456, 1.1518716979314303, 0.9774229882365835, 1.0765248936632636, 1.1294359450666929, 1.777120607585879, 1.1294364863496273, 1.1294364863496273, 1.1294364863496273, 1.1294364863496273, 1.1294364863496273, 1.1294364863496273, 1.1294363314480225, 1.1294363314480225, 1.1294363314480225, 1.1294363314480225, 1.1294363324767507, 1.1294360732786812, 1.1294360732786812, 1.1294360773941603, 1.1294360937447583, 1.1294361053013282, 1.1294359222579784, 1.1294359274021857, 1.1294359450666929, 1.6489807516879216, 1.6852783750851177, 3.423392637837477, 1.799549950302803, 5.489820596795097, 0.8824388583341111, 0.8824388583341111, 0.8824388583341111, 0.8824388583341111, 0.8824388583341111, 0.8824388583341111, 1.5905163027051943, 1.0013027641670456, 1.0765245135580908, 1.0765245249219546, 1.0013027234271388, 1.5934472471845875, 1.037600908180491, 1.037600908180491, 1.037600908180491, 1.037600908180491, 1.037600908180491, 1.037600654043761, 1.0376005856950434, 1.0376005958446293, 1.037600607930538, 1.0376004212991712, 1.0376004268377714, 1.6852783750851177, 1.7077134619944139, 5.489820596795097, 3.423392637837477, 0.8824388583341111, 0.8824388583341111, 0.8824388583341111, 0.8824388583341111, 0.8824388583341111, 0.8824388583341111, 0.8824388637071395, 0.977422982863555, 0.9774229882365835, 0.9774229882365835, 0.9774229882365835, 0.9774229882365835, 0.9774229882365835, 0.9774229882365835, 1.1518721908886822, 1.1294359274021857, 1.1518718546397864, 1.0013027234271388, 1.0013033388712276, 1.6896182236167245, 1.1294359450666929, 1.0765249907263734, 1.0765248936632636, 1.151871677414749, 1.1294360773941603, 1.0765245052606092, 0.8824388583341111, 0.8824388583341111, 0.8824388583341111, 0.8824388583341111, 0.8824388583341111, 0.8824388583341111, 0.8824388637071395, 0.9774229722938425, 0.977422982863555, 0.9774229882365835, 0.9774229882365835, 0.9774229882365835, 0.9774229882365835, 0.9774229882365835, 0.9774229882365835, 0.9774229639536721, 1.0013027641670456, 1.0013027234271388, 1.0013027915509933, 1.0013030194299386, 1.0013030000066199, 1.0013030120684587, 1.0013030173724822, 1.0013030214879612, 1.0013030256034403, 1.0013030294843426, 1.0013030309074638, 1.001303220675627, 1.0013032255852572, 1.001303242799578, 5.489820596795097, 1.1518721908886822, 1.6896182236167245, 1.1518716763860208, 1.1518716979314303, 1.0765248936632636, 1.1294359450666929, 1.0013033388712276, 1.0013033388712276, 1.1518718546397864, 1.1294359274021857, 1.037600607930538, 1.0765248865173933, 1.1294359222579784, 1.1294363314480225, 1.094852041029853, 1.0765245052606092, 1.1518721908886822, 1.1518722480556445, 1.0765248808166459, 1.151871677414749, 1.1294360773941603, 0.9774229639536721, 0.9774229722938425, 0.977422982863555, 0.9774229882365835, 0.9774229882365835, 0.9774229882365835, 0.9774229882365835, 0.9774229882365835, 0.9774229882365835, 1.5905163027051943, 3.423392637837477, 0.8824388583341111, 0.8824388583341111, 0.8824388583341111, 0.8824388583341111, 0.8824388583341111, 0.8824388583341111, 0.8824388637071395, 1.0013027641670456, 1.0013027234271388, 1.0013027915509933, 1.0013030000066199, 1.0013030120684587, 1.0013030173724822, 1.0013030194299386, 1.0013030214879612, 1.0013030256034403, 1.0013030294843426, 1.0013030309074638, 1.001303242799578, 1.6896182236167245, 2.3027183088579117, 5.489820596795097, 1.1294363314480225, 1.0765249907263734, 1.1294359274021857, 1.1518718546397864, 1.1294360773941603, 1.0013033388712276, 1.151871677414749, 1.1294359450666929, 1.0765248936632636, 1.1518716979314303, 1.094852041029853, 1.0765248808166459, 1.1518716763860208], \"Term\": [\"network\", \"control\", \"base\", \"algorithm\", \"method\", \"using\", \"optical\", \"tunable\", \"translinear\", \"sinusoidal\", \"7-decades\", \"oscillator\", \"bicmos\", \"3-phase\", \"mobile\", \"bacterial\", \"inversion\", \"measurement\", \"array\", \"isfet\", \"chemical\", \"activity\", \"conveyor\", \"current\", \"modeling\", \"voltage\", \"design\", \"dynamic\", \"multi\", \"millimeter\", \"estimation\", \"revision\", \"photovoltaic\", \"hybrid\", \"model\", \"architectural\", \"feature\", \"cellular\", \"texturing\", \"service\", \"crypto\", \"composition\", \"estimate\", \"pair\", \"weight\", \"distance\", \"adapt\", \"arbitrary\", \"light\", \"method\", \"dynamic\", \"system\", \"algorithm\", \"base\", \"tunable\", \"3-phase\", \"sinusoidal\", \"bicmos\", \"7-decades\", \"oscillator\", \"network\", \"multi\", \"switching\", \"transactions\", \"market\", \"waveband\", \"translinear\", \"bicmos\", \"7-decades\", \"oscillator\", \"3-phase\", \"sinusoidal\", \"tunable\", \"current\", \"conveyor\", \"activity\", \"bacterial\", \"isfet\", \"chemical\", \"inversion\", \"array\", \"measurement\", \"seeing\", \"comic_strip\", \"walls</i\", \"display\", \"fragment\", \"graph\", \"olfactory\", \"personal\", \"track\", \"signing\", \"individual\", \"architecture\", \"layer\", \"cross\", \"system\", \"algorithm\", \"dynamic\", \"base\", \"network\", \"mobile\", \"throughput\", \"composition\", \"arbitrary\", \"voltage\", \"event\", \"waveband\", \"millimeter\", \"optimal\", \"texturing\", \"joint\", \"research\", \"mobile\", \"modulation\", \"resource\", \"coding\", \"scheme\", \"optimization\", \"joint\", \"allocation\", \"rates\", \"block\", \"organize\", \"collection\", \"tolerant\", \"delay\", \"sensor\", \"event\", \"transactions\", \"information\", \"black\", \"integrating\", \"panel\", \"fertile\", \"computing\", \"research\", \"design\", \"system\", \"approach\", \"power\", \"method\", \"network\", \"translinear\", \"bicmos\", \"7-decades\", \"oscillator\", \"3-phase\", \"sinusoidal\", \"tunable\", \"current\", \"conveyor\", \"activity\", \"bacterial\", \"isfet\", \"chemical\", \"inversion\", \"array\", \"measurement\", \"seeing\", \"comic_strip\", \"walls</i\", \"personal\", \"graph\", \"individual\", \"olfactory\", \"track\", \"signing\", \"display\", \"fragment\", \"architecture\", \"cross\", \"layer\", \"network\", \"joint\", \"dynamic\", \"transactions\", \"research\", \"texturing\", \"optimal\", \"millimeter\", \"multi\", \"event\", \"waveband\", \"programmable\", \"cellular\", \"switching\", \"analysis\", \"market\", \"composition\", \"allocation\", \"optimization\", \"feature\", \"black\", \"location\", \"multi\", \"millimeter\", \"cross\", \"architecture\", \"layer\", \"graph\", \"individual\", \"olfactory\", \"personal\", \"track\", \"signing\", \"display\", \"fragment\", \"walls</i\", \"comic_strip\", \"seeing\", \"modeling\", \"sinusoidal\", \"oscillator\", \"bicmos\", \"translinear\", \"3-phase\", \"7-decades\", \"tunable\", \"current\", \"conveyor\", \"activity\", \"bacterial\", \"chemical\", \"array\", \"network\", \"event\", \"dynamic\", \"programmable\", \"texturing\", \"waveband\", \"optimal\", \"joint\", \"isfet\", \"research\", \"channel\", \"quantize\", \"equalization\", \"simplify\", \"adaptive\", \"monitoring\", \"specification\", \"chips\", \"embed\", \"level\", \"listener\", \"sizing\", \"frame\", \"switch\", \"throughput\", \"framework\", \"trading\", \"market\", \"inform\", \"algorithm\", \"using\", \"dynamic\", \"approach\", \"network\", \"translinear\", \"bicmos\", \"oscillator\", \"7-decades\", \"sinusoidal\", \"3-phase\", \"base\", \"seeing\", \"research\", \"bacterial\", \"texturing\", \"optimal\", \"optical\", \"sensing\", \"micromachined\", \"microphone\", \"circuit\", \"diffraction\", \"integrate\", \"asymptotics\", \"large\", \"analysis\", \"effort\", \"performance\", \"behavior\", \"recommendation\", \"location\", \"understanding\", \"spatial\", \"switching\", \"waveband\", \"optimal\", \"modeling\", \"voltage\", \"base\", \"power\", \"network\", \"oscillator\", \"7-decades\", \"sinusoidal\", \"3-phase\", \"translinear\", \"bicmos\", \"using\", \"seeing\", \"distance\", \"arbitrary\", \"comic_strip\", \"control\", \"analog\", \"indirect\", \"differential\", \"neural\", \"inverse\", \"transconductor\", \"triode\", \"linear\", \"programmable\", \"queue\", \"oscillation\", \"voltage\", \"design\", \"network\", \"base\", \"translinear\", \"3-phase\", \"oscillator\", \"bicmos\", \"sinusoidal\", \"7-decades\", \"tunable\", \"activity\", \"bacterial\", \"isfet\", \"inversion\", \"measurement\", \"chemical\", \"array\", \"allocation\", \"waveband\", \"event\", \"comic_strip\", \"millimeter\", \"dynamic\", \"optimal\", \"estimation\", \"texturing\", \"black\", \"location\", \"composition\", \"translinear\", \"bicmos\", \"7-decades\", \"oscillator\", \"3-phase\", \"sinusoidal\", \"tunable\", \"conveyor\", \"activity\", \"bacterial\", \"isfet\", \"chemical\", \"inversion\", \"array\", \"measurement\", \"current\", \"seeing\", \"comic_strip\", \"walls</i\", \"personal\", \"graph\", \"individual\", \"olfactory\", \"track\", \"signing\", \"display\", \"fragment\", \"cross\", \"architecture\", \"layer\", \"network\", \"joint\", \"dynamic\", \"transactions\", \"research\", \"texturing\", \"optimal\", \"millimeter\", \"multi\", \"event\", \"waveband\", \"programmable\", \"cellular\", \"switching\", \"analysis\", \"market\", \"composition\", \"allocation\", \"optimization\", \"feature\", \"black\", \"location\", \"current\", \"conveyor\", \"activity\", \"bacterial\", \"isfet\", \"measurement\", \"inversion\", \"chemical\", \"array\", \"using\", \"base\", \"sinusoidal\", \"3-phase\", \"oscillator\", \"translinear\", \"7-decades\", \"bicmos\", \"tunable\", \"seeing\", \"comic_strip\", \"walls</i\", \"graph\", \"individual\", \"olfactory\", \"personal\", \"track\", \"signing\", \"display\", \"fragment\", \"layer\", \"dynamic\", \"algorithm\", \"network\", \"analysis\", \"estimation\", \"waveband\", \"event\", \"location\", \"millimeter\", \"black\", \"optimal\", \"texturing\", \"research\", \"market\", \"feature\", \"transactions\"], \"Freq\": [5.0, 1.0, 3.0, 2.0, 2.0, 1.0, 1.0, 0.0, 0.0, 0.0, 0.0, 0.0, 0.0, 0.0, 1.0, 0.0, 0.0, 0.0, 0.0, 0.0, 0.0, 0.0, 0.0, 0.0, 1.0, 1.0, 1.0, 1.0, 1.0, 1.0, 0.654243461408936, 0.654243461408936, 0.654243461408936, 0.654243461408936, 0.6542433324562522, 0.6542433324562522, 0.6542433324562522, 0.6542433324562522, 0.6542433324562522, 0.6542429455982008, 0.6542429455982008, 0.6542429455982008, 0.6542429455982008, 0.6542429455982008, 0.6542429455982008, 0.6542429455982008, 0.6542429455982008, 0.6542429455982008, 0.6542429455982008, 1.2490178136397407, 0.6542410972764, 0.6542448798884575, 0.6542330162415498, 0.6542324144623589, 0.05947712573663941, 0.059477120363610914, 0.059477120363610914, 0.059477120363610914, 0.059477120363610914, 0.059477120363610914, 0.05947714722875337, 0.059477120363610914, 0.059477120363610914, 0.059477120363610914, 0.05947712573663941, 0.059477120363610914, 0.44074840842795865, 0.44074840842795865, 0.44074840842795865, 0.44074840842795865, 0.44074840842795865, 0.44074840842795865, 0.44074840842795865, 0.04006819977489612, 0.04006819977489612, 0.04006819977489612, 0.04006819977489612, 0.04006819977489612, 0.04006819977489612, 0.04006819977489612, 0.04006819977489612, 0.04006819977489612, 0.04006820753670045, 0.04006820365579829, 0.04006820365579829, 0.04006820753670045, 0.04006820753670045, 0.04006820365579829, 0.04006820365579829, 0.04006820365579829, 0.04006820365579829, 0.04006820365579829, 0.04006819977489612, 0.04006820365579829, 0.04006820365579829, 0.04006819977489612, 0.04006820753670045, 0.04006821141760262, 0.04006820753670045, 0.04006820753670045, 0.04006822306030912, 0.04006820753670045, 0.04006820753670045, 0.04006820753670045, 0.04006820753670045, 0.04006820753670045, 0.04006819977489612, 0.04006820365579829, 0.04006819977489612, 0.04006820365579829, 0.04006820365579829, 0.04006819977489612, 0.04006820365579829, 1.4072457274674957, 0.7371255620380959, 0.7371255620380959, 0.7371255620380959, 0.7371255620380959, 0.7371255620380959, 0.7371255048711335, 0.7371255048711335, 0.7371255048711335, 0.7371255048711335, 0.7371255048711335, 0.7371252190363217, 0.7371251618693593, 0.7371251618693593, 0.7371251618693593, 0.7371251618693593, 0.7371249903684721, 0.7371249903684721, 0.7371249903684721, 0.7371249903684721, 0.7371249903684721, 0.7371249903684721, 0.7371249903684721, 0.7371249903684721, 0.7371215031837668, 0.7371233896935254, 0.7371229895247887, 0.737125733538983, 0.7371229323578263, 1.4072464134710443, 0.016008526790813698, 0.016008526790813698, 0.016008526790813698, 0.016008526790813698, 0.016008526790813698, 0.016008526790813698, 0.016008526790813698, 0.016008526790813698, 0.016008526790813698, 0.016008526790813698, 0.016008526790813698, 0.016008526790813698, 0.016008526790813698, 0.016008526790813698, 0.016008526790813698, 0.016008526790813698, 0.01600853090572641, 0.016008527819541877, 0.016008528848270052, 0.016008528848270052, 0.016008527819541877, 0.016008527819541877, 0.016008527819541877, 0.016008527819541877, 0.016008527819541877, 0.016008527819541877, 0.016008527819541877, 0.016008527819541877, 0.016008526790813698, 0.016008526790813698, 0.016008533991910944, 0.016008526790813698, 0.01600852987699823, 0.016008526790813698, 0.016008527819541877, 0.016008526790813698, 0.016008527819541877, 0.016008526790813698, 0.016008526790813698, 0.016008526790813698, 0.016008527819541877, 0.016008527819541877, 0.016008526790813698, 0.016008526790813698, 0.016008526790813698, 0.016008527819541877, 0.016008527819541877, 0.016008526790813698, 0.016008526790813698, 0.016008527819541877, 0.016008526790813698, 0.016008526790813698, 0.5714994960356545, 0.5714994960356545, 0.5714993768113256, 0.5714993768113256, 0.5714993768113256, 0.5714991383626676, 0.5714991383626676, 0.5714991383626676, 0.5714991383626676, 0.5714991383626676, 0.5714991383626676, 0.5714991383626676, 0.5714991383626676, 0.5714988999140097, 0.5714988403018452, 0.5714988403018452, 0.5715002709937927, 0.051954806845475335, 0.051954806845475335, 0.051954806845475335, 0.051954806845475335, 0.051954806845475335, 0.051954806845475335, 0.051954806845475335, 0.051954806845475335, 0.051954806845475335, 0.051954806845475335, 0.051954806845475335, 0.051954806845475335, 0.051954806845475335, 0.05195484037731786, 0.051954806845475335, 0.05195481802275618, 0.05195481057123562, 0.05195481057123562, 0.051954806845475335, 0.051954806845475335, 0.051954806845475335, 0.051954806845475335, 0.051954806845475335, 0.6744038096295288, 0.6744038096295288, 0.6744038096295288, 0.6744038096295288, 0.6744038096295288, 0.6744037210119241, 0.6744037210119241, 0.6744037210119241, 0.6744037210119241, 0.6744037210119241, 0.6744037210119241, 0.6744035880855171, 0.6744035880855171, 0.6744035880855171, 0.6744035880855171, 0.6744032779239009, 0.6744032336150985, 0.6744032336150985, 0.6744032336150985, 1.2875135692586377, 0.6744010181749819, 0.6744054047464128, 0.6744056262904244, 0.67438635196141, 0.061309884858653456, 0.061309884858653456, 0.061309884858653456, 0.061309884858653456, 0.061309884858653456, 0.061309884858653456, 0.06130990147445433, 0.06130990147445433, 0.06130989039725374, 0.061309884858653456, 0.06130989039725374, 0.06130989039725374, 1.360130270738359, 0.7124461799174843, 0.7124461799174843, 0.7124461799174843, 0.7124461799174843, 0.7124461799174843, 0.7124461799174843, 0.7124460250158794, 0.7124460250158794, 0.7124460250158794, 0.7124460250158794, 0.7124460250158794, 0.712445766846538, 0.712445766846538, 0.712445766846538, 0.712445766846538, 0.712445766846538, 0.7124456119449332, 0.7124456119449332, 0.7124456119449332, 0.7124449407046455, 0.7124464897206939, 1.3601353308574506, 0.7124458701142745, 2.007825307939309, 0.0647683432489054, 0.0647683432489054, 0.0647683432489054, 0.0647683432489054, 0.0647683432489054, 0.0647683432489054, 0.06476834970313894, 0.06476835615737248, 0.06476834970313894, 0.06476835615737248, 0.06476834970313894, 1.1672731324188104, 0.6114268489808329, 0.6114268489808329, 0.6114268489808329, 0.6114268489808329, 0.6114268489808329, 0.611426585590172, 0.6114265197425068, 0.6114265197425068, 0.6114265197425068, 0.6114263221995113, 0.6114263221995113, 0.6114261246565157, 0.6114298121257666, 1.1672785319273564, 0.611426585590172, 0.05558459048139028, 0.05558459048139028, 0.05558459048139028, 0.05558459048139028, 0.05558459048139028, 0.05558459048139028, 0.05558459048139028, 0.05558459048139028, 0.05558459048139028, 0.05558459048139028, 0.05558459048139028, 0.05558459048139028, 0.05558459048139028, 0.05558459048139028, 0.05558459048139028, 0.055584594596869354, 0.05558459048139028, 0.055584594596869354, 0.05558459048139028, 0.0555846028278275, 0.055584594596869354, 0.05558459048139028, 0.055584594596869354, 0.05558459048139028, 0.055584594596869354, 0.055584594596869354, 0.016008526790813698, 0.016008526790813698, 0.016008526790813698, 0.016008526790813698, 0.016008526790813698, 0.016008526790813698, 0.016008526790813698, 0.016008526790813698, 0.016008526790813698, 0.016008526790813698, 0.016008526790813698, 0.016008526790813698, 0.016008526790813698, 0.016008526790813698, 0.016008526790813698, 0.016008525762085522, 0.016008528848270052, 0.016008527819541877, 0.016008528848270052, 0.016008528848270052, 0.016008527819541877, 0.016008527819541877, 0.016008527819541877, 0.016008527819541877, 0.016008527819541877, 0.016008527819541877, 0.016008527819541877, 0.016008527819541877, 0.016008527819541877, 0.016008527819541877, 0.016008537078095478, 0.016008526790813698, 0.01600853090572641, 0.016008526790813698, 0.016008526790813698, 0.016008527819541877, 0.016008527819541877, 0.016008526790813698, 0.016008526790813698, 0.016008527819541877, 0.016008526790813698, 0.016008527819541877, 0.016008527819541877, 0.016008526790813698, 0.016008526790813698, 0.016008527819541877, 0.016008527819541877, 0.016008526790813698, 0.016008526790813698, 0.016008527819541877, 0.016008527819541877, 0.016008526790813698, 0.5452310254185249, 0.5452310254185249, 0.5452310254185249, 0.5452310254185249, 0.5452310254185249, 0.5452310254185249, 0.5452310254185249, 0.5452310254185249, 0.5452310254185249, 0.5452331776989793, 0.545236337429859, 0.04956668686298989, 0.04956668686298989, 0.04956668686298989, 0.04956668686298989, 0.04956668686298989, 0.04956668686298989, 0.04956668686298989, 0.04956669831129018, 0.049566692587140034, 0.049566692587140034, 0.049566692587140034, 0.049566692587140034, 0.049566692587140034, 0.049566692587140034, 0.049566692587140034, 0.049566692587140034, 0.049566692587140034, 0.049566692587140034, 0.049566692587140034, 0.04956669831129018, 0.04956670403544032, 0.04956670975959047, 0.04956668686298989, 0.04956668686298989, 0.04956668686298989, 0.049566692587140034, 0.04956668686298989, 0.04956668686298989, 0.04956668686298989, 0.049566692587140034, 0.04956668686298989, 0.049566692587140034, 0.049566692587140034, 0.049566692587140034, 0.04956668686298989], \"Category\": [\"Default\", \"Default\", \"Default\", \"Default\", \"Default\", \"Default\", \"Default\", \"Default\", \"Default\", \"Default\", \"Default\", \"Default\", \"Default\", \"Default\", \"Default\", \"Default\", \"Default\", \"Default\", \"Default\", \"Default\", \"Default\", \"Default\", \"Default\", \"Default\", \"Default\", \"Default\", \"Default\", \"Default\", \"Default\", \"Default\", \"Topic1\", \"Topic1\", \"Topic1\", \"Topic1\", \"Topic1\", \"Topic1\", \"Topic1\", \"Topic1\", \"Topic1\", \"Topic1\", \"Topic1\", \"Topic1\", \"Topic1\", \"Topic1\", \"Topic1\", \"Topic1\", \"Topic1\", \"Topic1\", \"Topic1\", \"Topic1\", \"Topic1\", \"Topic1\", \"Topic1\", \"Topic1\", \"Topic1\", \"Topic1\", \"Topic1\", \"Topic1\", \"Topic1\", \"Topic1\", \"Topic1\", \"Topic1\", \"Topic1\", \"Topic1\", \"Topic1\", \"Topic1\", \"Topic2\", \"Topic2\", \"Topic2\", \"Topic2\", \"Topic2\", \"Topic2\", \"Topic2\", \"Topic2\", \"Topic2\", \"Topic2\", \"Topic2\", \"Topic2\", \"Topic2\", \"Topic2\", \"Topic2\", \"Topic2\", \"Topic2\", \"Topic2\", \"Topic2\", \"Topic2\", \"Topic2\", \"Topic2\", \"Topic2\", \"Topic2\", \"Topic2\", \"Topic2\", \"Topic2\", \"Topic2\", \"Topic2\", \"Topic2\", \"Topic2\", \"Topic2\", \"Topic2\", \"Topic2\", \"Topic2\", \"Topic2\", \"Topic2\", \"Topic2\", \"Topic2\", \"Topic2\", \"Topic2\", \"Topic2\", \"Topic2\", \"Topic2\", \"Topic2\", \"Topic2\", \"Topic2\", \"Topic3\", \"Topic3\", \"Topic3\", \"Topic3\", \"Topic3\", \"Topic3\", \"Topic3\", \"Topic3\", \"Topic3\", \"Topic3\", \"Topic3\", \"Topic3\", \"Topic3\", \"Topic3\", \"Topic3\", \"Topic3\", \"Topic3\", \"Topic3\", \"Topic3\", \"Topic3\", \"Topic3\", \"Topic3\", \"Topic3\", \"Topic3\", \"Topic3\", \"Topic3\", \"Topic3\", \"Topic3\", \"Topic3\", \"Topic3\", \"Topic4\", \"Topic4\", \"Topic4\", \"Topic4\", \"Topic4\", \"Topic4\", \"Topic4\", \"Topic4\", \"Topic4\", \"Topic4\", \"Topic4\", \"Topic4\", \"Topic4\", \"Topic4\", \"Topic4\", \"Topic4\", \"Topic4\", \"Topic4\", \"Topic4\", \"Topic4\", \"Topic4\", \"Topic4\", \"Topic4\", \"Topic4\", \"Topic4\", \"Topic4\", \"Topic4\", \"Topic4\", \"Topic4\", \"Topic4\", \"Topic4\", \"Topic4\", \"Topic4\", \"Topic4\", \"Topic4\", \"Topic4\", \"Topic4\", \"Topic4\", \"Topic4\", \"Topic4\", \"Topic4\", \"Topic4\", \"Topic4\", \"Topic4\", \"Topic4\", \"Topic4\", \"Topic4\", \"Topic4\", \"Topic4\", \"Topic4\", \"Topic4\", \"Topic4\", \"Topic5\", \"Topic5\", \"Topic5\", \"Topic5\", \"Topic5\", \"Topic5\", \"Topic5\", \"Topic5\", \"Topic5\", \"Topic5\", \"Topic5\", \"Topic5\", \"Topic5\", \"Topic5\", \"Topic5\", \"Topic5\", \"Topic5\", \"Topic5\", \"Topic5\", \"Topic5\", \"Topic5\", \"Topic5\", \"Topic5\", \"Topic5\", \"Topic5\", \"Topic5\", \"Topic5\", \"Topic5\", \"Topic5\", \"Topic5\", \"Topic5\", \"Topic5\", \"Topic5\", \"Topic5\", \"Topic5\", \"Topic5\", \"Topic5\", \"Topic5\", \"Topic5\", \"Topic5\", \"Topic6\", \"Topic6\", \"Topic6\", \"Topic6\", \"Topic6\", \"Topic6\", \"Topic6\", \"Topic6\", \"Topic6\", \"Topic6\", \"Topic6\", \"Topic6\", \"Topic6\", \"Topic6\", \"Topic6\", \"Topic6\", \"Topic6\", \"Topic6\", \"Topic6\", \"Topic6\", \"Topic6\", \"Topic6\", \"Topic6\", \"Topic6\", \"Topic6\", \"Topic6\", \"Topic6\", \"Topic6\", \"Topic6\", \"Topic6\", \"Topic6\", \"Topic6\", \"Topic6\", \"Topic6\", \"Topic6\", \"Topic6\", \"Topic7\", \"Topic7\", \"Topic7\", \"Topic7\", \"Topic7\", \"Topic7\", \"Topic7\", \"Topic7\", \"Topic7\", \"Topic7\", \"Topic7\", \"Topic7\", \"Topic7\", \"Topic7\", \"Topic7\", \"Topic7\", \"Topic7\", \"Topic7\", \"Topic7\", \"Topic7\", \"Topic7\", \"Topic7\", \"Topic7\", \"Topic7\", \"Topic7\", \"Topic7\", \"Topic7\", \"Topic7\", \"Topic7\", \"Topic7\", \"Topic7\", \"Topic7\", \"Topic7\", \"Topic7\", \"Topic7\", \"Topic7\", \"Topic8\", \"Topic8\", \"Topic8\", \"Topic8\", \"Topic8\", \"Topic8\", \"Topic8\", \"Topic8\", \"Topic8\", \"Topic8\", \"Topic8\", \"Topic8\", \"Topic8\", \"Topic8\", \"Topic8\", \"Topic8\", \"Topic8\", \"Topic8\", \"Topic8\", \"Topic8\", \"Topic8\", \"Topic8\", \"Topic8\", \"Topic8\", \"Topic8\", \"Topic8\", \"Topic8\", \"Topic8\", \"Topic8\", \"Topic8\", \"Topic8\", \"Topic8\", \"Topic8\", \"Topic8\", \"Topic8\", \"Topic8\", \"Topic8\", \"Topic8\", \"Topic8\", \"Topic8\", \"Topic8\", \"Topic8\", \"Topic9\", \"Topic9\", \"Topic9\", \"Topic9\", \"Topic9\", \"Topic9\", \"Topic9\", \"Topic9\", \"Topic9\", \"Topic9\", \"Topic9\", \"Topic9\", \"Topic9\", \"Topic9\", \"Topic9\", \"Topic9\", \"Topic9\", \"Topic9\", \"Topic9\", \"Topic9\", \"Topic9\", \"Topic9\", \"Topic9\", \"Topic9\", \"Topic9\", \"Topic9\", \"Topic9\", \"Topic9\", \"Topic9\", \"Topic9\", \"Topic9\", \"Topic9\", \"Topic9\", \"Topic9\", \"Topic9\", \"Topic9\", \"Topic9\", \"Topic9\", \"Topic9\", \"Topic9\", \"Topic9\", \"Topic9\", \"Topic9\", \"Topic9\", \"Topic9\", \"Topic9\", \"Topic9\", \"Topic9\", \"Topic9\", \"Topic9\", \"Topic9\", \"Topic9\", \"Topic10\", \"Topic10\", \"Topic10\", \"Topic10\", \"Topic10\", \"Topic10\", \"Topic10\", \"Topic10\", \"Topic10\", \"Topic10\", \"Topic10\", \"Topic10\", \"Topic10\", \"Topic10\", \"Topic10\", \"Topic10\", \"Topic10\", \"Topic10\", \"Topic10\", \"Topic10\", \"Topic10\", \"Topic10\", \"Topic10\", \"Topic10\", \"Topic10\", \"Topic10\", \"Topic10\", \"Topic10\", \"Topic10\", \"Topic10\", \"Topic10\", \"Topic10\", \"Topic10\", \"Topic10\", \"Topic10\", \"Topic10\", \"Topic10\", \"Topic10\", \"Topic10\", \"Topic10\", \"Topic10\", \"Topic10\", \"Topic10\", \"Topic10\", \"Topic10\", \"Topic10\"], \"logprob\": [30.0, 29.0, 28.0, 27.0, 26.0, 25.0, 24.0, 23.0, 22.0, 21.0, 20.0, 19.0, 18.0, 17.0, 16.0, 15.0, 14.0, 13.0, 12.0, 11.0, 10.0, 9.0, 8.0, 7.0, 6.0, 5.0, 4.0, 3.0, 2.0, 1.0, -3.5631000995635986, -3.5631000995635986, -3.5631000995635986, -3.5631000995635986, -3.5631000995635986, -3.5631000995635986, -3.5631000995635986, -3.5631000995635986, -3.5631000995635986, -3.5631000995635986, -3.5631000995635986, -3.5631000995635986, -3.5631000995635986, -3.5631000995635986, -3.5631000995635986, -3.5631000995635986, -3.5631000995635986, -3.5631000995635986, -3.5631000995635986, -2.9165000915527344, -3.5631000995635986, -3.5631000995635986, -3.5631000995635986, -3.5631000995635986, -5.960999965667725, -5.960999965667725, -5.960999965667725, -5.960999965667725, -5.960999965667725, -5.960999965667725, -5.960999965667725, -5.960999965667725, -5.960999965667725, -5.960999965667725, -5.960999965667725, -5.960999965667725, -2.9395999908447266, -2.9395999908447266, -2.9395999908447266, -2.9395999908447266, -2.9395999908447266, -2.9395999908447266, -2.9395999908447266, -5.337500095367432, -5.337500095367432, -5.337500095367432, -5.337500095367432, -5.337500095367432, -5.337500095367432, -5.337500095367432, -5.337500095367432, -5.337500095367432, -5.337500095367432, -5.337500095367432, -5.337500095367432, -5.337500095367432, -5.337500095367432, -5.337500095367432, -5.337500095367432, -5.337500095367432, -5.337500095367432, -5.337500095367432, -5.337500095367432, -5.337500095367432, -5.337500095367432, -5.337500095367432, -5.337500095367432, -5.337500095367432, -5.337500095367432, -5.337500095367432, -5.337500095367432, -5.337500095367432, -5.337500095367432, -5.337500095367432, -5.337500095367432, -5.337500095367432, -5.337500095367432, -5.337500095367432, -5.337500095367432, -5.337500095367432, -5.337500095367432, -5.337500095367432, -5.337500095367432, -3.0822999477386475, -3.7290000915527344, -3.7290000915527344, -3.7290000915527344, -3.7290000915527344, -3.7290000915527344, -3.7290000915527344, -3.7290000915527344, -3.7290000915527344, -3.7290000915527344, -3.7290000915527344, -3.7290000915527344, -3.7290000915527344, -3.7290000915527344, -3.7290000915527344, -3.7290000915527344, -3.7290000915527344, -3.7290000915527344, -3.7290000915527344, -3.7290000915527344, -3.7290000915527344, -3.7290000915527344, -3.7290000915527344, -3.7290000915527344, -3.7290000915527344, -3.7290000915527344, -3.7290000915527344, -3.7290000915527344, -3.7290000915527344, -3.0822999477386475, -4.927299976348877, -4.927299976348877, -4.927299976348877, -4.927299976348877, -4.927299976348877, -4.927299976348877, -4.927299976348877, -4.927299976348877, -4.927299976348877, -4.927299976348877, -4.927299976348877, -4.927299976348877, -4.927299976348877, -4.927299976348877, -4.927299976348877, -4.927299976348877, -4.927299976348877, -4.927299976348877, -4.927299976348877, -4.927299976348877, -4.927299976348877, -4.927299976348877, -4.927299976348877, -4.927299976348877, -4.927299976348877, -4.927299976348877, -4.927299976348877, -4.927299976348877, -4.927299976348877, -4.927299976348877, -4.927299976348877, -4.927299976348877, -4.927299976348877, -4.927299976348877, -4.927299976348877, -4.927299976348877, -4.927299976348877, -4.927299976348877, -4.927299976348877, -4.927299976348877, -4.927299976348877, -4.927299976348877, -4.927299976348877, -4.927299976348877, -4.927299976348877, -4.927299976348877, -4.927299976348877, -4.927299976348877, -4.927299976348877, -4.927299976348877, -4.927299976348877, -4.927299976348877, -3.332200050354004, -3.332200050354004, -3.332200050354004, -3.332200050354004, -3.332200050354004, -3.332200050354004, -3.332200050354004, -3.332200050354004, -3.332200050354004, -3.332200050354004, -3.332200050354004, -3.332200050354004, -3.332200050354004, -3.332200050354004, -3.332200050354004, -3.332200050354004, -3.332200050354004, -5.730100154876709, -5.730100154876709, -5.730100154876709, -5.730100154876709, -5.730100154876709, -5.730100154876709, -5.730100154876709, -5.730100154876709, -5.730100154876709, -5.730100154876709, -5.730100154876709, -5.730100154876709, -5.730100154876709, -5.730100154876709, -5.730100154876709, -5.730100154876709, -5.730100154876709, -5.730100154876709, -5.730100154876709, -5.730100154876709, -5.730100154876709, -5.730100154876709, -5.730100154876709, -3.5631000995635986, -3.5631000995635986, -3.5631000995635986, -3.5631000995635986, -3.5631000995635986, -3.5631000995635986, -3.5631000995635986, -3.5631000995635986, -3.5631000995635986, -3.5631000995635986, -3.5631000995635986, -3.5631000995635986, -3.5631000995635986, -3.5631000995635986, -3.5631000995635986, -3.5631000995635986, -3.5631000995635986, -3.5631000995635986, -3.5631000995635986, -2.9165000915527344, -3.5631000995635986, -3.5631000995635986, -3.5631000995635986, -3.5631000995635986, -5.960999965667725, -5.960999965667725, -5.960999965667725, -5.960999965667725, -5.960999965667725, -5.960999965667725, -5.960999965667725, -5.960999965667725, -5.960999965667725, -5.960999965667725, -5.960999965667725, -5.960999965667725, -3.0146000385284424, -3.6612000465393066, -3.6612000465393066, -3.6612000465393066, -3.6612000465393066, -3.6612000465393066, -3.6612000465393066, -3.6612000465393066, -3.6612000465393066, -3.6612000465393066, -3.6612000465393066, -3.6612000465393066, -3.6612000465393066, -3.6612000465393066, -3.6612000465393066, -3.6612000465393066, -3.6612000465393066, -3.6612000465393066, -3.6612000465393066, -3.6612000465393066, -3.6612000465393066, -3.6612000465393066, -3.0146000385284424, -3.6612000465393066, -2.6250998973846436, -6.059100151062012, -6.059100151062012, -6.059100151062012, -6.059100151062012, -6.059100151062012, -6.059100151062012, -6.059100151062012, -6.059100151062012, -6.059100151062012, -6.059100151062012, -6.059100151062012, -2.7174999713897705, -3.3642001152038574, -3.3642001152038574, -3.3642001152038574, -3.3642001152038574, -3.3642001152038574, -3.3642001152038574, -3.3642001152038574, -3.3642001152038574, -3.3642001152038574, -3.3642001152038574, -3.3642001152038574, -3.3642001152038574, -3.3642001152038574, -2.7174999713897705, -3.3642001152038574, -5.76200008392334, -5.76200008392334, -5.76200008392334, -5.76200008392334, -5.76200008392334, -5.76200008392334, -5.76200008392334, -5.76200008392334, -5.76200008392334, -5.76200008392334, -5.76200008392334, -5.76200008392334, -5.76200008392334, -5.76200008392334, -5.76200008392334, -5.76200008392334, -5.76200008392334, -5.76200008392334, -5.76200008392334, -5.76200008392334, -5.76200008392334, -5.76200008392334, -5.76200008392334, -5.76200008392334, -5.76200008392334, -5.76200008392334, -4.927299976348877, -4.927299976348877, -4.927299976348877, -4.927299976348877, -4.927299976348877, -4.927299976348877, -4.927299976348877, -4.927299976348877, -4.927299976348877, -4.927299976348877, -4.927299976348877, -4.927299976348877, -4.927299976348877, -4.927299976348877, -4.927299976348877, -4.927299976348877, -4.927299976348877, -4.927299976348877, -4.927299976348877, -4.927299976348877, -4.927299976348877, -4.927299976348877, -4.927299976348877, -4.927299976348877, -4.927299976348877, -4.927299976348877, -4.927299976348877, -4.927299976348877, -4.927299976348877, -4.927299976348877, -4.927299976348877, -4.927299976348877, -4.927299976348877, -4.927299976348877, -4.927299976348877, -4.927299976348877, -4.927299976348877, -4.927299976348877, -4.927299976348877, -4.927299976348877, -4.927299976348877, -4.927299976348877, -4.927299976348877, -4.927299976348877, -4.927299976348877, -4.927299976348877, -4.927299976348877, -4.927299976348877, -4.927299976348877, -4.927299976348877, -4.927299976348877, -4.927299976348877, -3.115499973297119, -3.115499973297119, -3.115499973297119, -3.115499973297119, -3.115499973297119, -3.115499973297119, -3.115499973297119, -3.115499973297119, -3.115499973297119, -3.115499973297119, -3.115499973297119, -5.513400077819824, -5.513400077819824, -5.513400077819824, -5.513400077819824, -5.513400077819824, -5.513400077819824, -5.513400077819824, -5.513400077819824, -5.513400077819824, -5.513400077819824, -5.513400077819824, -5.513400077819824, -5.513400077819824, -5.513400077819824, -5.513400077819824, -5.513400077819824, -5.513400077819824, -5.513400077819824, -5.513400077819824, -5.513400077819824, -5.513400077819824, -5.513400077819824, -5.513400077819824, -5.513400077819824, -5.513400077819824, -5.513400077819824, -5.513400077819824, -5.513400077819824, -5.513400077819824, -5.513400077819824, -5.513400077819824, -5.513400077819824, -5.513400077819824, -5.513400077819824, -5.513400077819824]}, \"R\": 30};\n",
       "\n",
       "function LDAvis_load_lib(url, callback){\n",
       "  var s = document.createElement('script');\n",
       "  s.src = url;\n",
       "  s.async = true;\n",
       "  s.onreadystatechange = s.onload = callback;\n",
       "  s.onerror = function(){console.warn(\"failed to load library \" + url);};\n",
       "  document.getElementsByTagName(\"head\")[0].appendChild(s);\n",
       "}\n",
       "\n",
       "if(typeof(LDAvis) !== \"undefined\"){\n",
       "   // already loaded: just create the visualization\n",
       "   !function(LDAvis){\n",
       "       new LDAvis(\"#\" + \"ldavis_el131771406651075277445562713578\", ldavis_el131771406651075277445562713578_data);\n",
       "   }(LDAvis);\n",
       "}else if(typeof define === \"function\" && define.amd){\n",
       "   // require.js is available: use it to load d3/LDAvis\n",
       "   require.config({paths: {d3: \"https://cdnjs.cloudflare.com/ajax/libs/d3/3.5.5/d3.min\"}});\n",
       "   require([\"d3\"], function(d3){\n",
       "      window.d3 = d3;\n",
       "      LDAvis_load_lib(\"https://cdn.rawgit.com/bmabey/pyLDAvis/files/ldavis.v1.0.0.js\", function(){\n",
       "        new LDAvis(\"#\" + \"ldavis_el131771406651075277445562713578\", ldavis_el131771406651075277445562713578_data);\n",
       "      });\n",
       "    });\n",
       "}else{\n",
       "    // require.js not available: dynamically load d3 & LDAvis\n",
       "    LDAvis_load_lib(\"https://cdnjs.cloudflare.com/ajax/libs/d3/3.5.5/d3.min.js\", function(){\n",
       "         LDAvis_load_lib(\"https://cdn.rawgit.com/bmabey/pyLDAvis/files/ldavis.v1.0.0.js\", function(){\n",
       "                 new LDAvis(\"#\" + \"ldavis_el131771406651075277445562713578\", ldavis_el131771406651075277445562713578_data);\n",
       "            })\n",
       "         });\n",
       "}\n",
       "</script>"
      ],
      "text/plain": [
       "<IPython.core.display.HTML object>"
      ]
     },
     "execution_count": 20,
     "metadata": {},
     "output_type": "execute_result"
    }
   ],
   "source": [
    "lda10 = gensim.models.ldamodel.LdaModel.load('model10.gensim')\n",
    "lda_display10 = pyLDAvis.gensim.prepare(lda10, corpus, dictionary, sort_topics=False)\n",
    "pyLDAvis.display(lda_display10)"
   ]
  }
 ],
 "metadata": {
  "kernelspec": {
   "display_name": "Python 3",
   "language": "python",
   "name": "python3"
  },
  "language_info": {
   "codemirror_mode": {
    "name": "ipython",
    "version": 3
   },
   "file_extension": ".py",
   "mimetype": "text/x-python",
   "name": "python",
   "nbconvert_exporter": "python",
   "pygments_lexer": "ipython3",
   "version": "3.5.2"
  }
 },
 "nbformat": 4,
 "nbformat_minor": 2
}
